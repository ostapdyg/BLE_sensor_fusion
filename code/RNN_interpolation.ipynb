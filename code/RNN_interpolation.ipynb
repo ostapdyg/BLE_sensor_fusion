{
 "cells": [
  {
   "cell_type": "markdown",
   "id": "8d1bc8b5-e0c4-426d-a8e1-21cdf4a34ffd",
   "metadata": {
    "tags": []
   },
   "source": [
    "# Imports, load data"
   ]
  },
  {
   "cell_type": "code",
   "execution_count": null,
   "id": "e7fae269-6ade-4965-8b15-87a8a57e9713",
   "metadata": {},
   "outputs": [],
   "source": [
    "import numpy as np\n",
    "import tensorflow as tf\n",
    "from distance_determination import get_current_freq\n",
    "from simul.utilities.data import load_experiment\n",
    "from simul.vis.signals import vis_signals\n",
    "from tqdm.auto import tqdm"
   ]
  },
  {
   "cell_type": "code",
   "execution_count": 2,
   "id": "6b5d43d0-d7f7-4e2a-b13e-25e6fa0ff2d2",
   "metadata": {},
   "outputs": [],
   "source": [
    "params, dist, signals_data, dist_probs = load_experiment(\"default_full\")"
   ]
  },
  {
   "cell_type": "markdown",
   "id": "b698e2fd-e25a-4974-b306-885b6c0c1b6a",
   "metadata": {
    "tags": []
   },
   "source": [
    "# VIS"
   ]
  },
  {
   "cell_type": "code",
   "execution_count": null,
   "id": "90a8232c-dd82-4397-8341-cebed777c597",
   "metadata": {
    "tags": []
   },
   "outputs": [],
   "source": [
    "# fig_amp, fig_angle = vis_signals(signals_data, dist, params, 500, dump=True)\n",
    "\n",
    "# fig_amp.update_layout(height=800)\n",
    "# fig_amp.show()\n",
    "\n",
    "# fig_angle.update_layout(height=800)\n",
    "# fig_angle.show()"
   ]
  },
  {
   "cell_type": "markdown",
   "id": "40da556b-2157-4381-837f-415504481ef9",
   "metadata": {},
   "source": [
    "# Prepare the train dataset"
   ]
  },
  {
   "cell_type": "code",
   "execution_count": null,
   "id": "624562e8-0eac-48e6-80d8-48b4fab0b3ca",
   "metadata": {},
   "outputs": [],
   "source": []
  },
  {
   "cell_type": "code",
   "execution_count": 52,
   "id": "d4480976-7449-4bff-ad2f-a96a1a7000b5",
   "metadata": {},
   "outputs": [
    {
     "data": {
      "application/vnd.jupyter.widget-view+json": {
       "model_id": "",
       "version_major": 2,
       "version_minor": 0
      },
      "text/plain": [
       "  0%|          | 0/23336 [00:00<?, ?it/s]"
      ]
     },
     "metadata": {},
     "output_type": "display_data"
    }
   ],
   "source": [
    "signals_data_with_skips = signals_data.copy()\n",
    "for ts_i, ts in enumerate(tqdm(params.tss, leave=False)):\n",
    "    curr_freq = get_current_freq(ts_i, params)\n",
    "    ids = np.ones(signals_data_with_skips.shape[0], dtype=bool)\n",
    "    ids[round(curr_freq / 2)] = 0\n",
    "    signals_data_with_skips[ids, ts_i] = np.NaN\n",
    "\n",
    "assert (~np.isnan(signals_data_with_skips)).sum() == signals_data_with_skips.shape[1]"
   ]
  },
  {
   "cell_type": "code",
   "execution_count": 53,
   "id": "54d612a2-d87f-41e0-8a72-7b8160a612f2",
   "metadata": {},
   "outputs": [],
   "source": [
    "n = signals_data.shape[1]\n",
    "train_signals_data = signals_data_with_skips[:, 0 : int(n * 0.7)]\n",
    "val_signals_data = signals_data_with_skips[:, int(n * 0.7) : int(n * 0.9)]\n",
    "test_signals_data = signals_data_with_skips[:, int(n * 0.9) :]\n",
    "\n",
    "train_labels = signals_data[:, 0 : int(n * 0.7)]\n",
    "val_labels = signals_data[:, int(n * 0.7) : int(n * 0.9)]\n",
    "test_labels = signals_data[:, int(n * 0.9) :]\n",
    "\n",
    "batch_size = 32\n",
    "train_signals_data=train_signals_data.T.reshape((bat))\n",
    "signals_data=signals_data[None, ...]"
   ]
  },
  {
   "cell_type": "code",
   "execution_count": 56,
   "id": "6e5829d1-a088-47c1-ab0b-8827fcbb6a08",
   "metadata": {},
   "outputs": [
    {
     "data": {
      "text/plain": [
       "(16335, 40)"
      ]
     },
     "execution_count": 56,
     "metadata": {},
     "output_type": "execute_result"
    }
   ],
   "source": [
    "train_signals_data.T.shape"
   ]
  },
  {
   "cell_type": "code",
   "execution_count": null,
   "id": "b031c6ab-8921-47a6-ac03-2af9e5bf6c20",
   "metadata": {},
   "outputs": [],
   "source": [
    "window_size = 6\n",
    "train = np.ndarray()"
   ]
  },
  {
   "cell_type": "markdown",
   "id": "206f957c-4b9b-444a-8e85-75d7aecd3c73",
   "metadata": {},
   "source": [
    "# Create a neural network"
   ]
  },
  {
   "cell_type": "code",
   "execution_count": 31,
   "id": "411f3035-deaa-4e9a-bc7b-652292d05e38",
   "metadata": {},
   "outputs": [
    {
     "name": "stderr",
     "output_type": "stream",
     "text": [
      "2022-01-19 09:07:16.300311: W tensorflow/stream_executor/platform/default/dso_loader.cc:64] Could not load dynamic library 'libcuda.so.1'; dlerror: libcuda.so.1: cannot open shared object file: No such file or directory\n",
      "2022-01-19 09:07:16.300336: W tensorflow/stream_executor/cuda/cuda_driver.cc:269] failed call to cuInit: UNKNOWN ERROR (303)\n",
      "2022-01-19 09:07:16.300352: I tensorflow/stream_executor/cuda/cuda_diagnostics.cc:156] kernel driver does not appear to be running on this host (astadnik-xps139310): /proc/driver/nvidia/version does not exist\n",
      "2022-01-19 09:07:16.300571: I tensorflow/core/platform/cpu_feature_guard.cc:151] This TensorFlow binary is optimized with oneAPI Deep Neural Network Library (oneDNN) to use the following CPU instructions in performance-critical operations:  AVX2 AVX512F FMA\n",
      "To enable them in other operations, rebuild TensorFlow with the appropriate compiler flags.\n"
     ]
    }
   ],
   "source": [
    "model = tf.keras.Sequential(\n",
    "    [\n",
    "        tf.keras.layers.LSTM(\n",
    "            40,\n",
    "            return_sequences=False,\n",
    "            stateful=True,\n",
    "            recurrent_initializer=\"glorot_uniform\",\n",
    "        ),\n",
    "        tf.keras.layers.Dense(40),\n",
    "    ]\n",
    ")"
   ]
  },
  {
   "cell_type": "code",
   "execution_count": 41,
   "id": "b263c748-f966-4288-90f4-9983740ba656",
   "metadata": {},
   "outputs": [
    {
     "name": "stdout",
     "output_type": "stream",
     "text": [
      "Epoch 1/30\n"
     ]
    },
    {
     "ename": "ValueError",
     "evalue": "in user code:\n\n    File \"/home/astadnik/.virtualenvs/masters/lib/python3.10/site-packages/keras/engine/training.py\", line 1021, in train_function  *\n        return step_function(self, iterator)\n    File \"/home/astadnik/.virtualenvs/masters/lib/python3.10/site-packages/keras/engine/training.py\", line 1010, in step_function  **\n        outputs = model.distribute_strategy.run(run_step, args=(data,))\n    File \"/home/astadnik/.virtualenvs/masters/lib/python3.10/site-packages/keras/engine/training.py\", line 1000, in run_step  **\n        outputs = model.train_step(data)\n    File \"/home/astadnik/.virtualenvs/masters/lib/python3.10/site-packages/keras/engine/training.py\", line 859, in train_step\n        y_pred = self(x, training=True)\n    File \"/home/astadnik/.virtualenvs/masters/lib/python3.10/site-packages/keras/utils/traceback_utils.py\", line 67, in error_handler\n        raise e.with_traceback(filtered_tb) from None\n    File \"/home/astadnik/.virtualenvs/masters/lib/python3.10/site-packages/keras/layers/recurrent.py\", line 943, in reset_states\n        raise ValueError('If a RNN is stateful, it needs to know '\n\n    ValueError: Exception encountered when calling layer \"sequential\" (type Sequential).\n    \n    If a RNN is stateful, it needs to know its batch size. Specify the batch size of your input tensors: \n    - If using a Sequential model, specify the batch size by passing a `batch_input_shape` argument to your first layer.\n    - If using the functional API, specify the batch size by passing a `batch_shape` argument to your Input layer.\n    \n    Call arguments received:\n      • inputs=tf.Tensor(shape=(None, 40, 28), dtype=complex64)\n      • training=True\n      • mask=None\n",
     "output_type": "error",
     "traceback": [
      "\u001b[0;31m---------------------------------------------------------------------------\u001b[0m",
      "\u001b[0;31mValueError\u001b[0m                                Traceback (most recent call last)",
      "\u001b[0;32m/tmp/ipykernel_906840/1478868531.py\u001b[0m in \u001b[0;36m<module>\u001b[0;34m\u001b[0m\n\u001b[1;32m      6\u001b[0m \u001b[0mtrain_signals_data\u001b[0m\u001b[0;34m=\u001b[0m\u001b[0mtrain_signals_data\u001b[0m\u001b[0;34m[\u001b[0m\u001b[0;32mNone\u001b[0m\u001b[0;34m,\u001b[0m \u001b[0;34m...\u001b[0m\u001b[0;34m]\u001b[0m\u001b[0;34m\u001b[0m\u001b[0;34m\u001b[0m\u001b[0m\n\u001b[1;32m      7\u001b[0m \u001b[0msignals_data\u001b[0m\u001b[0;34m=\u001b[0m\u001b[0msignals_data\u001b[0m\u001b[0;34m[\u001b[0m\u001b[0;32mNone\u001b[0m\u001b[0;34m,\u001b[0m \u001b[0;34m...\u001b[0m\u001b[0;34m]\u001b[0m\u001b[0;34m\u001b[0m\u001b[0;34m\u001b[0m\u001b[0m\n\u001b[0;32m----> 8\u001b[0;31m \u001b[0mhistory\u001b[0m \u001b[0;34m=\u001b[0m \u001b[0mmodel\u001b[0m\u001b[0;34m.\u001b[0m\u001b[0mfit\u001b[0m\u001b[0;34m(\u001b[0m\u001b[0mtrain_signals_data\u001b[0m\u001b[0;34m,\u001b[0m \u001b[0mtrain_labels\u001b[0m\u001b[0;34m,\u001b[0m \u001b[0mepochs\u001b[0m\u001b[0;34m=\u001b[0m\u001b[0;36m30\u001b[0m\u001b[0;34m)\u001b[0m\u001b[0;34m\u001b[0m\u001b[0;34m\u001b[0m\u001b[0m\n\u001b[0m",
      "\u001b[0;32m~/.virtualenvs/masters/lib/python3.10/site-packages/keras/utils/traceback_utils.py\u001b[0m in \u001b[0;36merror_handler\u001b[0;34m(*args, **kwargs)\u001b[0m\n\u001b[1;32m     65\u001b[0m     \u001b[0;32mexcept\u001b[0m \u001b[0mException\u001b[0m \u001b[0;32mas\u001b[0m \u001b[0me\u001b[0m\u001b[0;34m:\u001b[0m  \u001b[0;31m# pylint: disable=broad-except\u001b[0m\u001b[0;34m\u001b[0m\u001b[0;34m\u001b[0m\u001b[0m\n\u001b[1;32m     66\u001b[0m       \u001b[0mfiltered_tb\u001b[0m \u001b[0;34m=\u001b[0m \u001b[0m_process_traceback_frames\u001b[0m\u001b[0;34m(\u001b[0m\u001b[0me\u001b[0m\u001b[0;34m.\u001b[0m\u001b[0m__traceback__\u001b[0m\u001b[0;34m)\u001b[0m\u001b[0;34m\u001b[0m\u001b[0;34m\u001b[0m\u001b[0m\n\u001b[0;32m---> 67\u001b[0;31m       \u001b[0;32mraise\u001b[0m \u001b[0me\u001b[0m\u001b[0;34m.\u001b[0m\u001b[0mwith_traceback\u001b[0m\u001b[0;34m(\u001b[0m\u001b[0mfiltered_tb\u001b[0m\u001b[0;34m)\u001b[0m \u001b[0;32mfrom\u001b[0m \u001b[0;32mNone\u001b[0m\u001b[0;34m\u001b[0m\u001b[0;34m\u001b[0m\u001b[0m\n\u001b[0m\u001b[1;32m     68\u001b[0m     \u001b[0;32mfinally\u001b[0m\u001b[0;34m:\u001b[0m\u001b[0;34m\u001b[0m\u001b[0;34m\u001b[0m\u001b[0m\n\u001b[1;32m     69\u001b[0m       \u001b[0;32mdel\u001b[0m \u001b[0mfiltered_tb\u001b[0m\u001b[0;34m\u001b[0m\u001b[0;34m\u001b[0m\u001b[0m\n",
      "\u001b[0;32m~/.virtualenvs/masters/lib/python3.10/site-packages/tensorflow/python/framework/func_graph.py\u001b[0m in \u001b[0;36mautograph_handler\u001b[0;34m(*args, **kwargs)\u001b[0m\n\u001b[1;32m   1145\u001b[0m           \u001b[0;32mexcept\u001b[0m \u001b[0mException\u001b[0m \u001b[0;32mas\u001b[0m \u001b[0me\u001b[0m\u001b[0;34m:\u001b[0m  \u001b[0;31m# pylint:disable=broad-except\u001b[0m\u001b[0;34m\u001b[0m\u001b[0;34m\u001b[0m\u001b[0m\n\u001b[1;32m   1146\u001b[0m             \u001b[0;32mif\u001b[0m \u001b[0mhasattr\u001b[0m\u001b[0;34m(\u001b[0m\u001b[0me\u001b[0m\u001b[0;34m,\u001b[0m \u001b[0;34m\"ag_error_metadata\"\u001b[0m\u001b[0;34m)\u001b[0m\u001b[0;34m:\u001b[0m\u001b[0;34m\u001b[0m\u001b[0;34m\u001b[0m\u001b[0m\n\u001b[0;32m-> 1147\u001b[0;31m               \u001b[0;32mraise\u001b[0m \u001b[0me\u001b[0m\u001b[0;34m.\u001b[0m\u001b[0mag_error_metadata\u001b[0m\u001b[0;34m.\u001b[0m\u001b[0mto_exception\u001b[0m\u001b[0;34m(\u001b[0m\u001b[0me\u001b[0m\u001b[0;34m)\u001b[0m\u001b[0;34m\u001b[0m\u001b[0;34m\u001b[0m\u001b[0m\n\u001b[0m\u001b[1;32m   1148\u001b[0m             \u001b[0;32melse\u001b[0m\u001b[0;34m:\u001b[0m\u001b[0;34m\u001b[0m\u001b[0;34m\u001b[0m\u001b[0m\n\u001b[1;32m   1149\u001b[0m               \u001b[0;32mraise\u001b[0m\u001b[0;34m\u001b[0m\u001b[0;34m\u001b[0m\u001b[0m\n",
      "\u001b[0;31mValueError\u001b[0m: in user code:\n\n    File \"/home/astadnik/.virtualenvs/masters/lib/python3.10/site-packages/keras/engine/training.py\", line 1021, in train_function  *\n        return step_function(self, iterator)\n    File \"/home/astadnik/.virtualenvs/masters/lib/python3.10/site-packages/keras/engine/training.py\", line 1010, in step_function  **\n        outputs = model.distribute_strategy.run(run_step, args=(data,))\n    File \"/home/astadnik/.virtualenvs/masters/lib/python3.10/site-packages/keras/engine/training.py\", line 1000, in run_step  **\n        outputs = model.train_step(data)\n    File \"/home/astadnik/.virtualenvs/masters/lib/python3.10/site-packages/keras/engine/training.py\", line 859, in train_step\n        y_pred = self(x, training=True)\n    File \"/home/astadnik/.virtualenvs/masters/lib/python3.10/site-packages/keras/utils/traceback_utils.py\", line 67, in error_handler\n        raise e.with_traceback(filtered_tb) from None\n    File \"/home/astadnik/.virtualenvs/masters/lib/python3.10/site-packages/keras/layers/recurrent.py\", line 943, in reset_states\n        raise ValueError('If a RNN is stateful, it needs to know '\n\n    ValueError: Exception encountered when calling layer \"sequential\" (type Sequential).\n    \n    If a RNN is stateful, it needs to know its batch size. Specify the batch size of your input tensors: \n    - If using a Sequential model, specify the batch size by passing a `batch_input_shape` argument to your first layer.\n    - If using the functional API, specify the batch size by passing a `batch_shape` argument to your Input layer.\n    \n    Call arguments received:\n      • inputs=tf.Tensor(shape=(None, 40, 28), dtype=complex64)\n      • training=True\n      • mask=None\n"
     ]
    }
   ],
   "source": [
    "model.compile(\n",
    "    optimizer=\"sgd\",\n",
    "    loss=\"mse\",\n",
    "    metrics=[\"accuracy\"],\n",
    ")\n",
    "\n",
    "history = model.fit(train_signals_data, train_labels, epochs=30)"
   ]
  },
  {
   "cell_type": "code",
   "execution_count": 42,
   "id": "615b22f7-9064-40fd-bce9-ea3863360653",
   "metadata": {},
   "outputs": [
    {
     "data": {
      "text/plain": [
       "((1, 40, 28), (1, 1, 40, 23336))"
      ]
     },
     "execution_count": 42,
     "metadata": {},
     "output_type": "execute_result"
    }
   ],
   "source": [
    "train_signals_data.shape, signals_data.shape"
   ]
  },
  {
   "cell_type": "code",
   "execution_count": null,
   "id": "ad137778-84dd-460d-8f6f-089025740012",
   "metadata": {},
   "outputs": [],
   "source": []
  }
 ],
 "metadata": {
  "kernelspec": {
   "display_name": "Python 3 (ipykernel)",
   "language": "python",
   "name": "python3"
  },
  "language_info": {
   "codemirror_mode": {
    "name": "ipython",
    "version": 3
   },
   "file_extension": ".py",
   "mimetype": "text/x-python",
   "name": "python",
   "nbconvert_exporter": "python",
   "pygments_lexer": "ipython3",
   "version": "3.10.2"
  }
 },
 "nbformat": 4,
 "nbformat_minor": 5
}
