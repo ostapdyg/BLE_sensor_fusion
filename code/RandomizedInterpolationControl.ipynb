{
 "cells": [
  {
   "cell_type": "code",
   "execution_count": null,
   "id": "f108d291",
   "metadata": {},
   "outputs": [],
   "source": [
    "from functools import partial\n",
    "from multiprocessing import cpu_count\n",
    "from multiprocessing.pool import Pool\n",
    "\n",
    "import numpy as np\n",
    "import pandas as pd\n",
    "import plotly.express as px\n",
    "import plotly.graph_objects as go\n",
    "from distance_determination import estimate_dist, get_current_freq\n",
    "from interpolation.interpolate import interpolate, sklearn_interpolations\n",
    "from interpolation.metrics import get_RMSE\n",
    "from interpolation.wsinterp import wsinterp\n",
    "from simul.signals.augment import signal_add_noise\n",
    "from simul.utilities.data import load_experiment\n",
    "from simul.vis.dist_probs import vis_dist_probs\n",
    "from simul.vis.signals import get_vis_df, vis_signals, vis_signals2d, get_fft_df\n",
    "from tqdm.auto import tqdm, trange\n",
    "\n",
    "%load_ext autoreload\n",
    "%autoreload 2"
   ]
  },
  {
   "cell_type": "code",
   "execution_count": null,
   "id": "6df95f31",
   "metadata": {},
   "outputs": [],
   "source": [
    "sample_rate_full = 1000  #  Samples per s\n",
    "sin_freq = 5  # Hz\n",
    "sin_omega = (2*np.pi)*sin_freq\n",
    "sin_ts = np.arange(0, 5, 1/sample_rate_full)\n",
    "# sin_vals = np.sin(sin_omega * sin_ts)\n",
    "\n",
    "signal_vals_full = np.exp(1j * sin_omega * sin_ts)\n",
    "\n",
    "\n",
    "\n",
    "df = get_vis_df(\n",
    "    sin_ts,\n",
    "    np.array([signal_vals_full]),\n",
    "    np.array([signal_vals_full]),\n",
    "#     *interp_signals,\n",
    "#     n=20000,\n",
    "    freqs=[0],\n",
    ")\n",
    "vis_signals2d(df)"
   ]
  },
  {
   "cell_type": "code",
   "execution_count": null,
   "id": "abbec3d0",
   "metadata": {},
   "outputs": [],
   "source": [
    "def prune_normal(signal, rate=0.05, std=0.1):\n",
    "#     ratio: 0.1\n",
    "    res = np.full(signal.shape, np.NaN, dtype=complex)\n",
    "    grid_ids = np.arange(0, signal.shape[0], 1/rate)\n",
    "    grid_deltas = np.random.normal(0, std, grid_ids.shape)\n",
    "    grid_ids += grid_deltas\n",
    "    grid_ids = grid_ids[(grid_ids < signal.shape[0]-1)&((grid_ids > 0))]\n",
    "#     print(np.rint(grid_ids).astype(int))\n",
    "    res[np.rint(grid_ids).astype(int)] = signal[np.rint(grid_ids).astype(int)]\n",
    "    return res\n",
    "\n",
    "signal_vals_pruned = prune_normal(signal_vals_full, rate = 0.1, std=2)\n",
    "df = get_vis_df(\n",
    "    sin_ts,\n",
    "    np.array([signal_vals_full]),\n",
    "    np.array([signal_vals_pruned]),\n",
    "#     *interp_signals,\n",
    "#     n=20000,\n",
    "    freqs=[0],\n",
    ")\n",
    "vis_signals2d(df)\n"
   ]
  },
  {
   "cell_type": "code",
   "execution_count": null,
   "id": "9f8b2223",
   "metadata": {},
   "outputs": [],
   "source": [
    "\n",
    "def randomized_sinc_interp(x:np.ndarray, xp:np.ndarray, fp:np.ndarray, sigma_coeff=0.8,\n",
    "                            randomize=False, left=None, right=None)->np.ndarray:\n",
    "\n",
    "    Tn = (xp[-1] - xp[0])/(xp.shape[0]-1)\n",
    "#     print(xp.shape, xp[0], xp[1], Tn)\n",
    "    xp_regular = np.arange(xp[0], xp[-1]+Tn*0.1, Tn)\n",
    "    \n",
    "    xp_deltas = xp - xp_regular\n",
    "    if(randomize):\n",
    "        spread_0 = np.mean(np.square(xp_deltas))\n",
    "        xp_result = xp_regular + np.random.normal(0, spread_0*sigma_coeff, xp_regular.shape)\n",
    "    xp_result = xp_regular + xp_deltas * sigma_coeff \n",
    "\n",
    "    # shape = (nxp, nx), nxp copies of x data span axis 1\n",
    "    u = np.resize(x, (len(xp), len(x)))\n",
    "    # Must take transpose of u for proper broadcasting with xp.\n",
    "    # shape = (nx, nxp), v(xp) data spans axis 1\n",
    "    # v = (xp - u.T) / (Tn)\n",
    "    v = (xp_result - u.T) / (Tn)\n",
    "    # shape = (nx, nxp), m(v) data spans axis 1\n",
    "    m =   fp * np.sinc(v)\n",
    "    # Sum over m(v) (axis 1)\n",
    "    fp_at_x = np.sum(m, axis=1)\n",
    "\n",
    "    # Enforce left and right\n",
    "    if left is None:\n",
    "        left = fp[0]\n",
    "    fp_at_x[x < xp[0]] = left\n",
    "    if right is None:\n",
    "        right = fp[-1]\n",
    "    fp_at_x[x > xp[-1]] = right\n",
    "\n",
    "    return fp_at_x\n",
    "\n",
    "def interpolate_rand(signals: np.ndarray, sigma:float = 0.8, randomize=False):\n",
    "    interp_signal = []\n",
    "\n",
    "    x = np.arange(signals.shape[1])\n",
    "#     for signal in tqdm(signals):\n",
    "    for signal in signals:\n",
    "        idx = np.where(~np.isnan(signal))[0]\n",
    "        interp_signal.append(randomized_sinc_interp(x, x[idx], signal[idx], sigma, randomize))\n",
    "\n",
    "    return np.array(interp_signal)"
   ]
  },
  {
   "cell_type": "code",
   "execution_count": null,
   "id": "30e89bdf",
   "metadata": {},
   "outputs": [],
   "source": [
    "def run_test(signal_vals, rate, std, randomize=False):\n",
    "    signals_vals_pruned = prune_normal(signal_vals, rate, std)\n",
    "\n",
    "    interp_signals = [\n",
    "        (interpolate_rand(np.array([signals_vals_pruned]), sigma, randomize=randomize), f\"Sigma:{sigma}\") for sigma in [0, 0.1, 0.2, 0.5, 0.7, 0.8, 1]\n",
    "    ]\n",
    "    for interp in interp_signals:\n",
    "        mse = np.abs((np.square(interp[0][0,:] - signal_vals))).mean(axis=0)/np.max(np.abs(signal_vals))\n",
    "#                 mse = np.sqrt(np.abs((np.square(interp[0][0,:] - signal_vals))).mean(axis=0))/np.max(np.abs(signal_vals))\n",
    "\n",
    "        print(interp[1],\":        \",  mse)\n",
    "    return vis_signals2d(\n",
    "        get_vis_df(\n",
    "            sin_ts,\n",
    "            np.array([signal_vals]),\n",
    "            np.array([signals_vals_pruned]),\n",
    "            *interp_signals,\n",
    "    #         n=20000,\n",
    "            freqs=[0],\n",
    "    ))"
   ]
  },
  {
   "cell_type": "code",
   "execution_count": null,
   "id": "3cb5e9f3",
   "metadata": {
    "scrolled": false
   },
   "outputs": [],
   "source": [
    "for std in (1, 10, 100, 200):\n",
    "    print(std)\n",
    "    run_test(signal_vals_full, 0.2, std)\n"
   ]
  },
  {
   "cell_type": "code",
   "execution_count": null,
   "id": "5f31222a",
   "metadata": {},
   "outputs": [],
   "source": [
    "for std in (1, 10, 100, 200):\n",
    "    print(std)\n",
    "    run_test(signal_vals_full, 0.2, std, randomize=True)\n"
   ]
  },
  {
   "cell_type": "code",
   "execution_count": null,
   "id": "4d654861",
   "metadata": {},
   "outputs": [],
   "source": [
    "for std in (1, 10, 100, 200, 500):\n",
    "    print(\"Spread:\", std)\n",
    "    run_test(signal_vals_full, 0.045, std)"
   ]
  },
  {
   "cell_type": "code",
   "execution_count": null,
   "id": "f87fd349",
   "metadata": {},
   "outputs": [],
   "source": [
    "for std in ( 500, 1000, 2000):\n",
    "    print(\"Spread:\", std)\n",
    "    run_test(signal_vals_full, 0.1, std)"
   ]
  },
  {
   "cell_type": "code",
   "execution_count": null,
   "id": "f3058233",
   "metadata": {},
   "outputs": [],
   "source": []
  },
  {
   "cell_type": "code",
   "execution_count": null,
   "id": "a5488365",
   "metadata": {},
   "outputs": [],
   "source": [
    "for rate in (0.5, 0.2, 0.1, 0.05, 0.02):\n",
    "    run_test(signal_vals_full, rate, 0.2/rate)\n"
   ]
  },
  {
   "cell_type": "code",
   "execution_count": null,
   "id": "98579a96",
   "metadata": {},
   "outputs": [],
   "source": []
  },
  {
   "cell_type": "code",
   "execution_count": null,
   "id": "de53a29a",
   "metadata": {},
   "outputs": [],
   "source": [
    "sample_rate_full = 1000  #  Samples per s\n",
    "sin_freq = 5  # Hz\n",
    "sin_freq2 = 1.1  # Hz\n",
    "\n",
    "sin_omega = (2*np.pi)*sin_freq\n",
    "sin_omega2 = (2*np.pi)*sin_freq2\n",
    "\n",
    "sin_ts = np.arange(0, 5, 1/sample_rate_full)\n",
    "# sin_vals = np.sin(sin_omega * sin_ts)\n",
    "\n",
    "signal_vals_two_full = np.exp(1j * sin_omega * sin_ts)+np.exp(1j * sin_omega2 * sin_ts)*0.4\n",
    "\n",
    "\n",
    "\n",
    "df = get_vis_df(\n",
    "    sin_ts,\n",
    "    np.array([signal_vals_two_full]),\n",
    "    np.array([signal_vals_two_full]),\n",
    "#     *interp_signals,\n",
    "#     n=20000,\n",
    "    freqs=[0],\n",
    ")\n",
    "vis_signals2d(df)"
   ]
  },
  {
   "cell_type": "code",
   "execution_count": null,
   "id": "c2162b53",
   "metadata": {},
   "outputs": [],
   "source": [
    "for std in (1, 10, 100, 200):\n",
    "    print(std)\n",
    "    run_test(signal_vals_two_full, 0.2, std)"
   ]
  },
  {
   "cell_type": "code",
   "execution_count": null,
   "id": "f8f2b12a",
   "metadata": {},
   "outputs": [],
   "source": [
    "for std in (1, 10, 100, 200, 500):\n",
    "    print(\"Spread:\", std)\n",
    "    run_test(signal_vals_two_full, 0.045, std)"
   ]
  },
  {
   "cell_type": "code",
   "execution_count": null,
   "id": "6713d00b",
   "metadata": {},
   "outputs": [],
   "source": [
    "for rate in (0.5, 0.2, 0.1, 0.05, 0.02):\n",
    "    run_test(signal_vals_full, rate, 0.2/rate)"
   ]
  }
 ],
 "metadata": {
  "kernelspec": {
   "display_name": "Python 3 (ipykernel)",
   "language": "python",
   "name": "python3"
  },
  "language_info": {
   "codemirror_mode": {
    "name": "ipython",
    "version": 3
   },
   "file_extension": ".py",
   "mimetype": "text/x-python",
   "name": "python",
   "nbconvert_exporter": "python",
   "pygments_lexer": "ipython3",
   "version": "3.10.2"
  }
 },
 "nbformat": 4,
 "nbformat_minor": 5
}
