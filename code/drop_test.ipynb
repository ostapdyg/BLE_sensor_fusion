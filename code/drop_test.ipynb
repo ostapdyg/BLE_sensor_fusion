{
 "cells": [
  {
   "cell_type": "code",
   "execution_count": 1,
   "metadata": {},
   "outputs": [],
   "source": [
    "import numpy as np\n",
    "import pandas as pd\n",
    "import plotly.express as px\n",
    "import plotly.graph_objects as go\n",
    "from distance_determination import estimate_dist, get_current_freq\n",
    "from interpolation.interpolate import interpolate, sklearn_interpolations\n",
    "from interpolation.metrics import get_RMSE\n",
    "from interpolation.wsinterp import wsinterp\n",
    "from simul.utilities.data import load_experiment\n",
    "from simul.vis.dist_probs import vis_dist_probs\n",
    "from simul.vis.signals import get_vis_df, vis_signals, vis_signals2d\n",
    "from simul.vis.signals import vis_fft\n",
    "\n",
    "from simul.signals.augment import signal_prune\n",
    "from tqdm.auto import tqdm, trange"
   ]
  },
  {
   "cell_type": "code",
   "execution_count": 2,
   "metadata": {},
   "outputs": [
    {
     "name": "stderr",
     "output_type": "stream",
     "text": [
      "                                                                                         \r"
     ]
    }
   ],
   "source": [
    "from distance_determination import estimate_dist, simulate_signals\n",
    "from run_experiment import experiments\n",
    "\n",
    "exp_name = \"default_full\"\n",
    "params = experiments[exp_name]\n",
    "dist, signal_full = simulate_signals(params)\n",
    "\n",
    "# exp_name = \"default\"\n",
    "# params = experiments[exp_name]\n",
    "# dist, signals_data_pruned = simulate_signals(params)"
   ]
  },
  {
   "cell_type": "code",
   "execution_count": 3,
   "metadata": {},
   "outputs": [
    {
     "ename": "NameError",
     "evalue": "name 'nans' is not defined",
     "output_type": "error",
     "traceback": [
      "\u001b[1;31m---------------------------------------------------------------------------\u001b[0m",
      "\u001b[1;31mNameError\u001b[0m                                 Traceback (most recent call last)",
      "Input \u001b[1;32mIn [3]\u001b[0m, in \u001b[0;36m<module>\u001b[1;34m\u001b[0m\n\u001b[0;32m      2\u001b[0m     \u001b[38;5;28;01mreturn\u001b[39;00m np\u001b[38;5;241m.\u001b[39margwhere(\u001b[38;5;241m~\u001b[39mnp\u001b[38;5;241m.\u001b[39misnan(vals))\n\u001b[0;32m      3\u001b[0m vals \u001b[38;5;241m=\u001b[39m get_val_idxs(signal_full)\n\u001b[1;32m----> 4\u001b[0m signal_full\u001b[38;5;241m.\u001b[39mshape, \u001b[43mnans\u001b[49m\u001b[38;5;241m.\u001b[39mshape, nans\n",
      "\u001b[1;31mNameError\u001b[0m: name 'nans' is not defined"
     ]
    }
   ],
   "source": [
    "def get_val_idxs(vals):\n",
    "    return np.argwhere(~np.isnan(vals))\n",
    "vals = get_val_idxs(signal_full)\n",
    "signal_full.shape, vals.shape, vals"
   ]
  },
  {
   "cell_type": "code",
   "execution_count": null,
   "metadata": {},
   "outputs": [
    {
     "ename": "NameError",
     "evalue": "name 'get_val_idxs' is not defined",
     "output_type": "error",
     "traceback": [
      "\u001b[1;31m---------------------------------------------------------------------------\u001b[0m",
      "\u001b[1;31mNameError\u001b[0m                                 Traceback (most recent call last)",
      "Input \u001b[1;32mIn [5]\u001b[0m, in \u001b[0;36m<module>\u001b[1;34m\u001b[0m\n\u001b[0;32m      1\u001b[0m signal_pruned \u001b[38;5;241m=\u001b[39m signal_prune(signal_full)\n\u001b[1;32m----> 2\u001b[0m vals \u001b[38;5;241m=\u001b[39m \u001b[43mget_val_idxs\u001b[49m(signal_full)\n\u001b[0;32m      3\u001b[0m signal_pruned\u001b[38;5;241m.\u001b[39mshape, vals\u001b[38;5;241m.\u001b[39mshape, vals\n",
      "\u001b[1;31mNameError\u001b[0m: name 'get_val_idxs' is not defined"
     ]
    }
   ],
   "source": [
    "signal_pruned = signal_prune(signal_full)\n",
    "vals = get_val_idxs(signal_full)\n",
    "signal_pruned.shape, vals.shape, vals\n",
    "# signal_pruned = "
   ]
  }
 ],
 "metadata": {
  "interpreter": {
   "hash": "b89b5cfaba6639976dc87ff2fec6d58faec662063367e2c229c520fe71072417"
  },
  "kernelspec": {
   "display_name": "Python 3.10.2 64-bit",
   "language": "python",
   "name": "python3"
  },
  "language_info": {
   "codemirror_mode": {
    "name": "ipython",
    "version": 3
   },
   "file_extension": ".py",
   "mimetype": "text/x-python",
   "name": "python",
   "nbconvert_exporter": "python",
   "pygments_lexer": "ipython3",
   "version": "3.10.2"
  },
  "orig_nbformat": 4
 },
 "nbformat": 4,
 "nbformat_minor": 2
}
