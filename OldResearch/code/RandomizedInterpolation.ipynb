{
 "cells": [
  {
   "cell_type": "code",
   "execution_count": null,
   "id": "aa338bf1",
   "metadata": {},
   "outputs": [],
   "source": [
    "from functools import partial\n",
    "from multiprocessing import cpu_count\n",
    "from multiprocessing.pool import Pool\n",
    "\n",
    "import numpy as np\n",
    "import pandas as pd\n",
    "import plotly.express as px\n",
    "import plotly.graph_objects as go\n",
    "from distance_determination import estimate_dist, get_current_freq\n",
    "from interpolation.interpolate import interpolate, sklearn_interpolations\n",
    "from interpolation.metrics import get_RMSE\n",
    "from interpolation.wsinterp import wsinterp\n",
    "from simul.signals.augment import signal_add_noise\n",
    "from simul.utilities.data import load_experiment\n",
    "from simul.vis.dist_probs import vis_dist_probs\n",
    "from simul.vis.signals import get_vis_df, vis_signals, vis_signals2d, get_fft_df\n",
    "from tqdm.auto import tqdm, trange\n",
    "\n",
    "%load_ext autoreload\n",
    "%autoreload 2"
   ]
  },
  {
   "cell_type": "code",
   "execution_count": null,
   "id": "b353a3e2",
   "metadata": {},
   "outputs": [],
   "source": [
    "from distance_determination import estimate_dist, simulate_signals\n",
    "from run_experiment import experiments\n",
    "\n",
    "# import plotly.io as pio\n",
    "# pio.renderers.default = \"notebook_connected\"\n",
    "exp_start = 1000\n",
    "exp_size = 5000\n",
    "# exp_name = \"default_full\"\n",
    "exp_name = \"default_full\"\n",
    "params = experiments[exp_name]\n",
    "dist, signals_data_full = simulate_signals(params)\n",
    "signals_data = signals_data_full[:, exp_start:exp_start+exp_size]\n",
    "# exp_name = \"default\"\n",
    "exp_name = \"default_random\"\n",
    "params = experiments[exp_name]\n",
    "dist, signals_data_pruned_full = simulate_signals(params)\n",
    "signals_data_pruned = signals_data_pruned_full[:, exp_start:exp_start+exp_size]\n",
    "\n",
    "\n",
    "exp_name = \"default\"\n",
    "params = experiments[exp_name]\n",
    "dist, signals_data_pruned_reg_full = simulate_signals(params)\n",
    "signals_data_pruned_reg = signals_data_pruned_reg_full[:, exp_start:exp_start+exp_size]\n"
   ]
  },
  {
   "cell_type": "code",
   "execution_count": null,
   "id": "6978215a",
   "metadata": {},
   "outputs": [],
   "source": [
    "df = get_vis_df(\n",
    "    params.tss,\n",
    "    signals_data,\n",
    "    signals_data_pruned,\n",
    "#     *interp_signals,\n",
    "#     n=20000,\n",
    "    freqs=[0],\n",
    ")\n",
    "vis_signals2d(df)"
   ]
  },
  {
   "cell_type": "code",
   "execution_count": null,
   "id": "7c0e496f",
   "metadata": {},
   "outputs": [],
   "source": [
    "\n",
    "def randomized_sinc_interp(x:np.ndarray, xp:np.ndarray, fp:np.ndarray, sigma_coeff=0.8, left=None, right=None)->np.ndarray:\n",
    "\n",
    "    Tn = (xp[-1] - xp[0])/(xp.shape[0]-1)\n",
    "#     print(xp.shape, xp[0], xp[1], Tn)\n",
    "    xp_regular = np.arange(xp[0], xp[-1]+Tn*0.1, Tn)\n",
    "    \n",
    "    xp_deltas = xp - xp_regular\n",
    "\n",
    "    xp_result = xp_regular + xp_deltas * sigma_coeff \n",
    "\n",
    "    # shape = (nxp, nx), nxp copies of x data span axis 1\n",
    "    u = np.resize(x, (len(xp), len(x)))\n",
    "    # Must take transpose of u for proper broadcasting with xp.\n",
    "    # shape = (nx, nxp), v(xp) data spans axis 1\n",
    "    # v = (xp - u.T) / (Tn)\n",
    "#     v = (xp_result - u.T) / (Tn)\n",
    "    v = (u.T - xp_result) / (Tn)\n",
    "    # shape = (nx, nxp), m(v) data spans axis 1\n",
    "    m =   fp * np.sinc(v)\n",
    "    # Sum over m(v) (axis 1)\n",
    "    fp_at_x = np.sum(m, axis=1)\n",
    "\n",
    "    # Enforce left and right\n",
    "    if left is None:\n",
    "        left = fp[0]\n",
    "    fp_at_x[x < xp[0]] = left\n",
    "    if right is None:\n",
    "        right = fp[-1]\n",
    "    fp_at_x[x > xp[-1]] = right\n",
    "\n",
    "    return fp_at_x\n",
    "\n",
    "def interpolate_rand(signals: np.ndarray, sigma:float = 0.8):\n",
    "    interp_signal = []\n",
    "\n",
    "    x = np.arange(signals.shape[1])\n",
    "    for signal in tqdm(signals):\n",
    "        idx = np.where(~np.isnan(signal))[0]\n",
    "        interp_signal.append(randomized_sinc_interp(x, x[idx], signal[idx], sigma))\n",
    "\n",
    "    return np.array(interp_signal)\n",
    "\n"
   ]
  },
  {
   "cell_type": "code",
   "execution_count": null,
   "id": "2da78e69",
   "metadata": {
    "scrolled": true
   },
   "outputs": [],
   "source": [
    "interp_signals = [\n",
    "    (interpolate_rand(signals_data_pruned, sigma), f\"Sigma:{sigma}\") for sigma in [0, 0.1, 0.2, 0.5, 0.7, 0.8, 1]\n",
    "]\n"
   ]
  },
  {
   "cell_type": "code",
   "execution_count": null,
   "id": "55445372",
   "metadata": {},
   "outputs": [],
   "source": [
    "\n",
    "vis_signals2d(\n",
    "    get_vis_df(\n",
    "        params.tss,\n",
    "        signals_data,\n",
    "        signals_data_pruned,\n",
    "        *interp_signals,\n",
    "#         n=20000,\n",
    "        freqs=[0],\n",
    "))"
   ]
  },
  {
   "cell_type": "code",
   "execution_count": null,
   "id": "874f3a31",
   "metadata": {},
   "outputs": [],
   "source": [
    "vis_signals2d(\n",
    "    get_fft_df(\n",
    "        params.tss,\n",
    "        signals_data,\n",
    "        signals_data_pruned,\n",
    "        *interp_signals,\n",
    "#         n=20000,\n",
    "        freqs=[0],\n",
    "))"
   ]
  },
  {
   "cell_type": "code",
   "execution_count": null,
   "id": "f4fbf5e6",
   "metadata": {
    "scrolled": true
   },
   "outputs": [],
   "source": [
    "interp_signals_reg = [\n",
    "    (interpolate_rand(signals_data_pruned_reg, sigma), f\"Sigma:{sigma}\") for sigma in [0, 0.1, 0.2, 0.5, 0.7, 0.8, 1]\n",
    "]+[(interpolate(signals_data_pruned_reg, \"Whittaker–Shannon\"), \"WS\")]"
   ]
  },
  {
   "cell_type": "code",
   "execution_count": null,
   "id": "e2f02564",
   "metadata": {},
   "outputs": [],
   "source": [
    "vis_signals2d(\n",
    "    get_vis_df(\n",
    "        params.tss,\n",
    "        signals_data,\n",
    "        signals_data_pruned_reg,\n",
    "        *interp_signals_reg,\n",
    "#         n=20000,\n",
    "        freqs=[0],\n",
    "))"
   ]
  },
  {
   "cell_type": "code",
   "execution_count": null,
   "id": "4b9a6171",
   "metadata": {},
   "outputs": [],
   "source": [
    "vis_signals2d(\n",
    "    get_fft_df(\n",
    "        params.tss,\n",
    "        signals_data,\n",
    "        signals_data_pruned_reg,\n",
    "        *interp_signals_reg,\n",
    "#         n=20000,\n",
    "        freqs=[0],\n",
    "))"
   ]
  }
 ],
 "metadata": {
  "kernelspec": {
   "display_name": "Python 3 (ipykernel)",
   "language": "python",
   "name": "python3"
  },
  "language_info": {
   "codemirror_mode": {
    "name": "ipython",
    "version": 3
   },
   "file_extension": ".py",
   "mimetype": "text/x-python",
   "name": "python",
   "nbconvert_exporter": "python",
   "pygments_lexer": "ipython3",
   "version": "3.10.2"
  }
 },
 "nbformat": 4,
 "nbformat_minor": 5
}
