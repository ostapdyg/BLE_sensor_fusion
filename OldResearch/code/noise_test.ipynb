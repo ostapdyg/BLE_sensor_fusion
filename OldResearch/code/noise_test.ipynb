{
 "cells": [
  {
   "cell_type": "markdown",
   "metadata": {},
   "source": [
    "# Trying to add noise to the signals..."
   ]
  },
  {
   "cell_type": "code",
   "execution_count": null,
   "metadata": {},
   "outputs": [],
   "source": [
    "import numpy as np\n",
    "import pandas as pd\n",
    "import plotly.express as px\n",
    "import plotly.graph_objects as go\n",
    "from tqdm.auto import tqdm, trange"
   ]
  },
  {
   "cell_type": "code",
   "execution_count": null,
   "metadata": {},
   "outputs": [],
   "source": [
    "import plotly.io as pio\n",
    "pio.renderers.default = \"notebook_connected\"\n",
    "\n",
    "\n",
    "def plot_signal(x, t):\n",
    "    return go.Figure([go.Scatter(y=x, x=t, mode=\"lines+markers\")\n",
    "                      ]).update_layout(\n",
    "        xaxis_title=\"Time, s\",\n",
    "        yaxis_title=\"Signal\",\n",
    "    )\n"
   ]
  },
  {
   "cell_type": "code",
   "execution_count": null,
   "metadata": {},
   "outputs": [],
   "source": [
    "sample_rate_full = 1000  #  Samples per s\n",
    "sin_freq = 5  # Hz\n",
    "sin_omega = (2*np.pi)*sin_freq\n",
    "sin_ts = np.arange(0, 2, 1/sample_rate_full)\n",
    "# sin_vals = np.sin(sin_omega * sin_ts)\n",
    "\n",
    "sin_vals = np.exp(1j * sin_omega * sin_ts)\n",
    "plot_signal(sin_vals.real, sin_ts).show()\n",
    "plot_freqs(*fft(sin_vals, sin_ts)).show()"
   ]
  },
  {
   "cell_type": "code",
   "execution_count": null,
   "metadata": {},
   "outputs": [],
   "source": []
  },
  {
   "cell_type": "code",
   "execution_count": null,
   "metadata": {},
   "outputs": [],
   "source": [
    "from simul.signals.augment import signal_add_noise\n",
    "from simul.vis.signals import vis_fft\n",
    "sin_vals_noised = signal_add_noise(sin_vals, val=0.2)\n",
    "plot_signal(sin_vals_noised.real, sin_ts).show()\n",
    "vis_fft(sin_vals_noised, sin_ts, mult=10).show()\n",
    "sin_vals_noised = signal_add_noise(sin_vals, val=2)\n",
    "plot_signal(sin_vals_noised.real, sin_ts).show()\n",
    "vis_fft(sin_vals_noised, sin_ts, mult=10, max_freq=10).show()"
   ]
  },
  {
   "cell_type": "code",
   "execution_count": null,
   "metadata": {},
   "outputs": [],
   "source": []
  }
 ],
 "metadata": {
  "interpreter": {
   "hash": "b89b5cfaba6639976dc87ff2fec6d58faec662063367e2c229c520fe71072417"
  },
  "kernelspec": {
   "display_name": "Python 3 (ipykernel)",
   "language": "python",
   "name": "python3"
  },
  "language_info": {
   "codemirror_mode": {
    "name": "ipython",
    "version": 3
   },
   "file_extension": ".py",
   "mimetype": "text/x-python",
   "name": "python",
   "nbconvert_exporter": "python",
   "pygments_lexer": "ipython3",
   "version": "3.10.2"
  }
 },
 "nbformat": 4,
 "nbformat_minor": 4
}
