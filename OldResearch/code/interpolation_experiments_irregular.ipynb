{
 "cells": [
  {
   "cell_type": "markdown",
   "metadata": {},
   "source": [
    "# This notebook shows the first part of the interpolation experiments"
   ]
  },
  {
   "cell_type": "code",
   "execution_count": null,
   "metadata": {},
   "outputs": [],
   "source": [
    "import numpy as np\n",
    "import pandas as pd\n",
    "import plotly.express as px\n",
    "import plotly.graph_objects as go\n",
    "from tqdm.auto import tqdm, trange"
   ]
  },
  {
   "cell_type": "code",
   "execution_count": null,
   "metadata": {},
   "outputs": [],
   "source": [
    "import plotly.io as pio\n",
    "\n",
    "def plot_signal(x, t):\n",
    "    return go.Figure([go.Scatter(y=x, x=t, mode=\"lines+markers\")\n",
    "                      ]).update_layout(\n",
    "        xaxis_title=\"Time, s\",\n",
    "        yaxis_title=\"Signal\",\n",
    "    )\n",
    "\n",
    "def plot_freqs(x, f, f_max=10):\n",
    "    f_idxs = np.abs(f)<f_max\n",
    "    return go.Figure(go.Scatter(y=x[f_idxs], x=f[f_idxs], mode=\"lines+markers\")).update_layout(\n",
    "        xaxis_title=\"Frequency, Hz\",\n",
    "        yaxis_title=\"Strength\",\n",
    "    )\n",
    "\n",
    "def fft(vals, ts):\n",
    "    sample_rate = ts.shape[-1]/(ts[-1] - ts[0])\n",
    "    return np.abs(np.fft.fft(vals)), np.fft.fftfreq(vals.shape[-1])*sample_rate\n"
   ]
  },
  {
   "cell_type": "code",
   "execution_count": null,
   "metadata": {},
   "outputs": [],
   "source": [
    "def wsinterp(x, xp, fp, left=None, right=None):\n",
    "    \"\"\"One-dimensional Whittaker-Shannon interpolation.\n",
    "\n",
    "    This uses the Whittaker-Shannon interpolation formula to interpolate the\n",
    "    value of fp (array), which is defined over xp (array), at x (array or\n",
    "    float).\n",
    "\n",
    "    Returns the interpolated array with dimensions of x.\n",
    "\n",
    "    x: t_int\n",
    "    xp: t_real\n",
    "    fp: f_real\n",
    "\n",
    "    \"\"\"\n",
    "    scalar = np.isscalar(x)\n",
    "    if scalar:\n",
    "        x = np.array(x)\n",
    "        x.resize(1)\n",
    "    # shape = (nxp, nx), nxp copies of x data span axis 1\n",
    "    u = np.resize(x, (len(xp), len(x)))\n",
    "    # Must take transpose of u for proper broadcasting with xp.\n",
    "    # shape = (nx, nxp), v(xp) data spans axis 1\n",
    "    v = (xp - u.T) / (xp[1] - xp[0])\n",
    "    # shape = (nx, nxp), m(v) data spans axis 1\n",
    "    m = fp * np.sinc(v)\n",
    "    # Sum over m(v) (axis 1)\n",
    "    fp_at_x = np.sum(m, axis=1)\n",
    "\n",
    "    # Enforce left and right\n",
    "    if left is None:\n",
    "        left = fp[0]\n",
    "    fp_at_x[x < xp[0]] = left\n",
    "    if right is None:\n",
    "        right = fp[-1]\n",
    "    fp_at_x[x > xp[-1]] = right\n",
    "\n",
    "    # Return a float if we got a float\n",
    "    if scalar:\n",
    "        return float(fp_at_x)\n",
    "\n",
    "    return fp_at_x"
   ]
  },
  {
   "cell_type": "code",
   "execution_count": null,
   "metadata": {},
   "outputs": [],
   "source": [
    "sample_rate_full = 1000  #  Samples per s\n",
    "sin_freq = 5  # Hz\n",
    "sin_omega = (2*np.pi)*sin_freq\n",
    "sin_ts = np.arange(0, 2, 1/sample_rate_full)\n",
    "# sin_vals = np.sin(sin_omega * sin_ts)\n",
    "\n",
    "sin_vals = np.exp(1j * sin_omega * sin_ts)\n",
    "plot_signal(sin_vals.real, sin_ts).show()\n",
    "plot_freqs(*fft(sin_vals, sin_ts)).show()"
   ]
  },
  {
   "cell_type": "code",
   "execution_count": null,
   "metadata": {},
   "outputs": [],
   "source": [
    "ids_irreg = np.sort(np.random.choice(np.arange(sin_ts.shape[0]), (sin_ts.shape[0])//20, False))\n",
    "sin_vals_irreg = sin_vals[ids_irreg]\n",
    "sin_ts_irreg = sin_ts[ids_irreg]\n",
    "\n",
    "# plot_signal(sin_vals_irreg.real, sin_ts_irreg).show()\n",
    "fig = go.Figure()\n",
    "fig.add_trace(go.Scatter(y=sin_vals.real, x=sin_ts, mode=\"lines\", name=\"Siganl\"))\n",
    "fig.add_trace(go.Scatter(y=sin_vals_irreg.real, x=sin_ts_irreg, mode=\"markers\", name=\"Sample points\"))\n",
    "fig.show()"
   ]
  },
  {
   "cell_type": "code",
   "execution_count": null,
   "metadata": {},
   "outputs": [],
   "source": [
    "def fft(vals, ts):\n",
    "    sample_rate = ts.shape[-1]/(ts[-1] - ts[0])\n",
    "    return np.abs(np.fft.fft(vals)), np.fft.fftfreq(vals.shape[-1])*sample_rate\n",
    "\n",
    "plot_freqs(*fft(sin_vals_irreg, sin_ts_irreg)).show()"
   ]
  },
  {
   "cell_type": "code",
   "execution_count": null,
   "metadata": {},
   "outputs": [],
   "source": [
    "sin_wsint = wsinterp(sin_ts, sin_ts_irreg, sin_vals_irreg)\n",
    "# plot_signal(sin_wsint.real, sin_ts).show()\n",
    "\n",
    "fig = go.Figure()\n",
    "fig.add_trace(go.Scatter(y=sin_wsint.real, x=sin_ts, mode=\"lines\", name=\"Interpolated\"))\n",
    "fig.add_trace(go.Scatter(y=sin_vals_irreg.real, x=sin_ts_irreg, mode=\"markers\", name=\"Sample points\"))\n",
    "fig.show()\n",
    "\n",
    "plot_freqs(*fft(sin_wsint, sin_ts)).show()"
   ]
  },
  {
   "cell_type": "code",
   "execution_count": null,
   "metadata": {},
   "outputs": [],
   "source": [
    "from scipy import interpolate\n",
    "\n",
    "def splineinterp(x, xp, fp):\n",
    "    tck = interpolate.splrep(xp, fp)\n",
    "    return interpolate.splev(x, tck)"
   ]
  },
  {
   "cell_type": "code",
   "execution_count": null,
   "metadata": {},
   "outputs": [],
   "source": [
    "sin_spint = splineinterp(sin_ts, sin_ts_irreg, sin_vals_irreg.real) + 1j*splineinterp(sin_ts, sin_ts_irreg, sin_vals_irreg.imag)\n",
    "# plot_signal(sin_spint.imag, sin_ts).show()\n",
    "\n",
    "fig = go.Figure()\n",
    "fig.add_trace(go.Scatter(y=sin_spint.real, x=sin_ts, mode=\"lines\", name=\"Interpolated\"))\n",
    "fig.add_trace(go.Scatter(y=sin_vals.real, x=sin_ts, mode=\"lines\", name=\"Real\"))\n",
    "fig.add_trace(go.Scatter(y=sin_vals_irreg.real, x=sin_ts_irreg, mode=\"markers\", name=\"Sample points\"))\n",
    "fig.show()\n",
    "\n",
    "plot_freqs(*fft(sin_spint, sin_ts)).show()"
   ]
  },
  {
   "cell_type": "code",
   "execution_count": null,
   "metadata": {},
   "outputs": [],
   "source": []
  }
 ],
 "metadata": {
  "interpreter": {
   "hash": "b89b5cfaba6639976dc87ff2fec6d58faec662063367e2c229c520fe71072417"
  },
  "kernelspec": {
   "display_name": "Python 3 (ipykernel)",
   "language": "python",
   "name": "python3"
  },
  "language_info": {
   "codemirror_mode": {
    "name": "ipython",
    "version": 3
   },
   "file_extension": ".py",
   "mimetype": "text/x-python",
   "name": "python",
   "nbconvert_exporter": "python",
   "pygments_lexer": "ipython3",
   "version": "3.10.2"
  }
 },
 "nbformat": 4,
 "nbformat_minor": 4
}
