{
 "cells": [
  {
   "cell_type": "markdown",
   "id": "ea67d78c-a5be-4104-99da-240881bad364",
   "metadata": {},
   "source": [
    "# Interpolation visualization"
   ]
  },
  {
   "cell_type": "markdown",
   "id": "8e40ec0e-aa6a-4919-b259-e46628d42f31",
   "metadata": {},
   "source": [
    "This documents shows effects of different approaches to the signal interpolation"
   ]
  },
  {
   "cell_type": "code",
   "execution_count": null,
   "id": "7a51458f-1093-4abc-a731-bcb9b2eb1d92",
   "metadata": {},
   "outputs": [],
   "source": [
    "from functools import partial\n",
    "from multiprocessing import cpu_count\n",
    "from multiprocessing.pool import Pool\n",
    "\n",
    "import numpy as np\n",
    "import pandas as pd\n",
    "import plotly.express as px\n",
    "import plotly.graph_objects as go\n",
    "from distance_determination import estimate_dist, get_current_freq\n",
    "from interpolation.interpolate import interpolate, sklearn_interpolations\n",
    "from interpolation.metrics import get_RMSE\n",
    "from interpolation.wsinterp import wsinterp\n",
    "from simul.signals.augment import signal_add_noise\n",
    "from simul.utilities.data import load_experiment\n",
    "from simul.vis.dist_probs import vis_dist_probs\n",
    "from simul.vis.signals import get_vis_df, vis_signals, vis_signals2d, get_fft_df\n",
    "from tqdm.auto import tqdm, trange\n",
    "\n",
    "%load_ext autoreload\n",
    "%autoreload 2"
   ]
  },
  {
   "cell_type": "code",
   "execution_count": null,
   "id": "77668c2c-19a5-45df-97ff-8939d002195c",
   "metadata": {},
   "outputs": [],
   "source": [
    "from distance_determination import estimate_dist, simulate_signals\n",
    "from run_experiment import experiments\n",
    "\n",
    "# import plotly.io as pio\n",
    "# pio.renderers.default = \"notebook_connected\"\n",
    "\n",
    "# exp_name = \"default_full\"\n",
    "exp_name = \"full_no_walls\"\n",
    "params = experiments[exp_name]\n",
    "dist, signals_data = simulate_signals(params)\n",
    "\n",
    "# exp_name = \"default\"\n",
    "exp_name = \"no_walls\"\n",
    "params = experiments[exp_name]\n",
    "dist, signals_data_pruned = simulate_signals(params)"
   ]
  },
  {
   "cell_type": "markdown",
   "id": "1ce0025f-ce6a-4f27-8a96-3a9685693e8c",
   "metadata": {},
   "source": [
    "Generate the data using different interpolations"
   ]
  },
  {
   "cell_type": "code",
   "execution_count": null,
   "id": "29055bfc-0bf3-43d2-a258-6a994d08c8d4",
   "metadata": {},
   "outputs": [],
   "source": [
    "# interpolation_kinds = sklearn_interpolations + [\"Whittaker–Shannon\"]\n",
    "interpolation_kinds = [\"Whittaker–Shannon\",\"randomized_sinc\", ]\n",
    "interp_signals = [\n",
    "    (interpolate(signals_data_pruned, kind), kind) for kind in interpolation_kinds\n",
    "]"
   ]
  },
  {
   "cell_type": "markdown",
   "id": "cab25d9d-8815-4993-b409-fa0922a02d42",
   "metadata": {},
   "source": [
    "The figure below shows the original signal, as well as different approaches to the interpolation. On the right you can toggle on or off the signals to have a better view."
   ]
  },
  {
   "cell_type": "code",
   "execution_count": null,
   "id": "5ddd54c3-c8ea-4b22-8b95-8746cd895e61",
   "metadata": {},
   "outputs": [],
   "source": [
    "df = get_vis_df(\n",
    "    params.tss,\n",
    "    signals_data,\n",
    "    signals_data_pruned,\n",
    "    *interp_signals,\n",
    "    n=20000,\n",
    "    freqs=[0],\n",
    ")"
   ]
  },
  {
   "cell_type": "code",
   "execution_count": null,
   "id": "9619477e-7f52-427e-a738-4022c39743b0",
   "metadata": {},
   "outputs": [],
   "source": [
    "vis_signals(df)"
   ]
  },
  {
   "cell_type": "markdown",
   "id": "96af266e-4874-472c-9e8f-d90211c4ebed",
   "metadata": {},
   "source": [
    "The above graph looks fancy, but a little bit messy. Take a look at the same graph in 2d."
   ]
  },
  {
   "cell_type": "code",
   "execution_count": null,
   "id": "1fe608d7-28b7-4163-9e93-82db8b317385",
   "metadata": {},
   "outputs": [],
   "source": [
    "vis_signals2d(df)"
   ]
  },
  {
   "cell_type": "code",
   "execution_count": null,
   "id": "e027b3ae-b650-4988-845f-e3e0962efe7c",
   "metadata": {},
   "outputs": [],
   "source": [
    "vis_signals2d(df, \"imaginary\")"
   ]
  },
  {
   "cell_type": "code",
   "execution_count": null,
   "id": "3b50fbc0",
   "metadata": {},
   "outputs": [],
   "source": []
  },
  {
   "cell_type": "markdown",
   "id": "63300e97-9933-45f3-8d10-cd188b567e4c",
   "metadata": {},
   "source": [
    "Here will be an FFT comparison for different interpolations"
   ]
  },
  {
   "cell_type": "code",
   "execution_count": null,
   "id": "24da9de4",
   "metadata": {},
   "outputs": [],
   "source": [
    "fft_df = get_fft_df(\n",
    "    params.tss,\n",
    "    signals_data,\n",
    "    signals_data_pruned,\n",
    "    (signals_data_pruned,\"pruned\"),\n",
    "    *interp_signals,\n",
    "    n = 20000,\n",
    "    freqs=[0],\n",
    ")\n",
    "vis_signals2d(fft_df)"
   ]
  },
  {
   "cell_type": "markdown",
   "id": "3a033011",
   "metadata": {},
   "source": [
    "Interpolation with noise"
   ]
  },
  {
   "cell_type": "code",
   "execution_count": null,
   "id": "cf0267d3",
   "metadata": {},
   "outputs": [],
   "source": [
    "signals_pruned_noised = signal_add_noise(signals_data_pruned, val=0.0003)\n",
    "interp_signals_noised = [\n",
    "    (interpolate(signals_pruned_noised, kind), kind) for kind in interpolation_kinds\n",
    "]"
   ]
  },
  {
   "cell_type": "code",
   "execution_count": null,
   "id": "0aff898c",
   "metadata": {},
   "outputs": [],
   "source": [
    "df_noised = get_vis_df(\n",
    "    params.tss,\n",
    "    signals_data,\n",
    "    signals_pruned_noised,\n",
    "    (signals_pruned_noised,\"measures_noised\"),\n",
    "    *interp_signals_noised,\n",
    "    n=1000,\n",
    "    freqs=[0],\n",
    ")\n",
    "vis_signals2d(df_noised)"
   ]
  },
  {
   "cell_type": "code",
   "execution_count": null,
   "id": "cf0c32af",
   "metadata": {},
   "outputs": [],
   "source": [
    "fft_df_noised = get_fft_df(\n",
    "    params.tss,\n",
    "    signals_data,\n",
    "    signals_data_pruned,\n",
    "    *interp_signals_noised,\n",
    "    n = 20000,\n",
    "    freqs=[0],\n",
    ")\n",
    "vis_signals2d(fft_df_noised)"
   ]
  },
  {
   "cell_type": "markdown",
   "id": "80c288cf-7f8e-40fa-a3ad-fb030eca0aae",
   "metadata": {},
   "source": [
    "Below the table with RMSEs for absolute value errors presented for different interpolations."
   ]
  },
  {
   "cell_type": "code",
   "execution_count": null,
   "id": "0bd5a121-ad3a-4735-8f83-b2286b6a0ea1",
   "metadata": {},
   "outputs": [],
   "source": [
    "df = get_vis_df(params.tss, signals_data, signals_data_pruned, *interp_signals)\n",
    "\n",
    "fft_df = get_fft_df(\n",
    "    params.tss,\n",
    "    signals_data,\n",
    "    signals_data_pruned,\n",
    "    *interp_signals,\n",
    "    n = 20000,\n",
    ")\n",
    "\n",
    "df_noised = get_vis_df(\n",
    "    params.tss,\n",
    "    signals_data,\n",
    "    signals_pruned_noised,\n",
    "    *interp_signals_noised,\n",
    ")\n",
    "\n",
    "fft_df_noised = get_fft_df(\n",
    "    params.tss,\n",
    "    signals_data,\n",
    "    signals_data_pruned,\n",
    "    *interp_signals_noised,\n",
    "    n = 20000,\n",
    ")\n"
   ]
  },
  {
   "cell_type": "code",
   "execution_count": null,
   "id": "509ae288-bc51-412e-b51e-704ecd72dd62",
   "metadata": {},
   "outputs": [],
   "source": [
    "rmse = get_RMSE(df)\n",
    "\n",
    "rmse\n",
    "# With wall:\n",
    "#Whittaker–Shannon \tcubic \t\tlinear \t\tnearest \tnext \t\tprevious \tquadratic\n",
    "#0.007374 \t\t\t0.004195 \t0.011731 \t0.022209 \t0.041332 \t0.040989 \t0.004816"
   ]
  },
  {
   "cell_type": "code",
   "execution_count": null,
   "id": "81305163",
   "metadata": {},
   "outputs": [],
   "source": [
    "rmse_noised = get_RMSE(df_noised)\n",
    "rmse_noised\n",
    "\n",
    "# With wall:\n",
    "#Whittaker–Shannon \tcubic \t\tlinear\t \tnearest \tnext \t\tprevious \tquadratic\n",
    "#0.018513 \t\t\t0.016351 \t0.018111 \t0.027932 \t0.044675 \t0.044372 \t0.016424"
   ]
  },
  {
   "cell_type": "code",
   "execution_count": null,
   "id": "d3d194bf",
   "metadata": {},
   "outputs": [],
   "source": [
    "# rmse_fft = get_RMSE(fft_df)\n",
    "# rmse_fft\n"
   ]
  },
  {
   "cell_type": "code",
   "execution_count": null,
   "id": "f7e7936c",
   "metadata": {},
   "outputs": [],
   "source": [
    "# rmse_noised_fft = get_RMSE(fft_df_noised)\n",
    "# rmse_noised_fft"
   ]
  },
  {
   "cell_type": "markdown",
   "id": "7fb7635b-f3f7-4cb3-86fd-107558c39277",
   "metadata": {},
   "source": [
    "The units are the same as are in the signal data"
   ]
  },
  {
   "cell_type": "code",
   "execution_count": null,
   "id": "b6c3abc7-a55f-4a24-a5bc-406079103d8f",
   "metadata": {},
   "outputs": [],
   "source": [
    "f = partial(estimate_dist, params=params)\n",
    "\n",
    "gt_dist_probs = f(signals_data)\n",
    "\n",
    "with Pool(cpu_count()) as pool:\n",
    "    args = [d[0] for d in interp_signals]\n",
    "    dist_probss = pool.map(f, args)"
   ]
  },
  {
   "cell_type": "code",
   "execution_count": null,
   "id": "0e09937f-b895-4dc4-9866-989039481b69",
   "metadata": {},
   "outputs": [],
   "source": [
    "diffs = [dist_probs - gt_dist_probs for dist_probs in dist_probss]\n",
    "\n",
    "dist_rmse = [\n",
    "    np.sqrt(((np.real(diff) ** 2 + np.imag(diff) ** 2) ** 2).mean()) for diff in diffs\n",
    "]\n",
    "\n",
    "pd.DataFrame(\n",
    "    data=dist_rmse, index=[name for signal, name in interp_signals], columns=[\"RMSE\"]\n",
    ").T\n",
    "\n",
    "# With wall:\n",
    "#linear \tnearest \tquadratic \tcubic \t\tprevious \tnext \t\tWhittaker–Shannon\n",
    "#0.01563 \t0.018498 \t0.00975 \t0.009659 \t0.019834 \t0.020572 \t0.005389"
   ]
  },
  {
   "cell_type": "code",
   "execution_count": null,
   "id": "7d470500",
   "metadata": {},
   "outputs": [],
   "source": [
    "f = partial(estimate_dist, params=params)\n",
    "\n",
    "with Pool(cpu_count()) as pool:\n",
    "    args = [d[0] for d in interp_signals_noised]\n",
    "    dist_probss_noised = pool.map(f, args)"
   ]
  },
  {
   "cell_type": "code",
   "execution_count": null,
   "id": "b5e14548",
   "metadata": {},
   "outputs": [],
   "source": [
    "diffs_noised = [dist_probs - gt_dist_probs for dist_probs in dist_probss_noised]\n",
    "\n",
    "dist_rmse = [\n",
    "    np.sqrt(((np.real(diff) ** 2 + np.imag(diff) ** 2) ** 2).mean()) for diff in diffs_noised\n",
    "]\n",
    "\n",
    "pd.DataFrame(\n",
    "    data=dist_rmse, index=[name for signal, name in interp_signals], columns=[\"RMSE\"]\n",
    ").T\n",
    "\n",
    "\n",
    "# linear \tnearest \tquadratic \tcubic\t\tprevious \tnext \t\tWhittaker–Shannon\n",
    "# 0.011296 \t0.023034 \t0.009796 \t0.009683\t0.022723 \t0.023808 \t0.003016\n",
    "\n",
    "# With wall:\n",
    "# linear \tnearest \tquadratic \tcubic \t\tprevious \tnext \t\tWhittaker–Shannon\n",
    "# 0.035209 \t0.044421 \t0.035234 \t0.035442 \t0.045815 \t0.045743 \t0.038139"
   ]
  },
  {
   "cell_type": "code",
   "execution_count": null,
   "id": "de30b617",
   "metadata": {},
   "outputs": [],
   "source": [
    "names = (name for _,name in interp_signals)\n",
    "for name, dist_probs in zip(names, dist_probss_noised):\n",
    "    print(name)\n",
    "    vis_dist_probs(dist_probs, dist).update_layout(title=name).update_xaxes(title=\"Distance, m\").update_yaxes(title=\"Predicted distance, m\").show()\n"
   ]
  },
  {
   "cell_type": "code",
   "execution_count": null,
   "id": "8569d915",
   "metadata": {},
   "outputs": [],
   "source": [
    "vis_dist_probs(gt_dist_probs, dist).update_layout(title=\"Ideal\").update_xaxes(title=\"Distance, m\").update_yaxes(title=\"Predicted distance, m\").show()"
   ]
  }
 ],
 "metadata": {
  "kernelspec": {
   "display_name": "Python 3 (ipykernel)",
   "language": "python",
   "name": "python3"
  },
  "language_info": {
   "codemirror_mode": {
    "name": "ipython",
    "version": 3
   },
   "file_extension": ".py",
   "mimetype": "text/x-python",
   "name": "python",
   "nbconvert_exporter": "python",
   "pygments_lexer": "ipython3",
   "version": "3.10.2"
  }
 },
 "nbformat": 4,
 "nbformat_minor": 5
}
