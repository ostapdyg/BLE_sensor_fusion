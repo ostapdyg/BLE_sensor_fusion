{
 "cells": [
  {
   "cell_type": "code",
   "execution_count": null,
   "metadata": {},
   "outputs": [],
   "source": [
    "import numpy as np\n",
    "import pandas as pd\n",
    "import plotly.express as px\n",
    "import plotly.graph_objects as go\n",
    "from distance_determination import estimate_dist, get_current_freq\n",
    "from interpolation.interpolate import interpolate, sklearn_interpolations\n",
    "from interpolation.metrics import get_RMSE\n",
    "from interpolation.wsinterp import wsinterp\n",
    "from simul.utilities.data import load_experiment\n",
    "from simul.vis.dist_probs import vis_dist_probs\n",
    "from simul.vis.signals import get_vis_df, vis_signals, vis_signals2d\n",
    "from simul.vis.signals import vis_fft\n",
    "\n",
    "from simul.signals.augment import signal_prune\n",
    "from tqdm.auto import tqdm, trange"
   ]
  },
  {
   "cell_type": "code",
   "execution_count": null,
   "metadata": {},
   "outputs": [],
   "source": [
    "from distance_determination import estimate_dist, simulate_signals\n",
    "from run_experiment import experiments\n",
    "\n",
    "exp_name = \"default_full\"\n",
    "params = experiments[exp_name]\n",
    "dist, signal_full = simulate_signals(params)\n",
    "\n",
    "# exp_name = \"default\"\n",
    "# params = experiments[exp_name]\n",
    "# dist, signals_data_pruned = simulate_signals(params)"
   ]
  },
  {
   "cell_type": "code",
   "execution_count": null,
   "metadata": {},
   "outputs": [],
   "source": [
    "def get_val_idxs(vals):\n",
    "    return np.argwhere(~np.isnan(vals))\n",
    "vals = get_val_idxs(signal_full)\n",
    "signal_full.shape, vals.shape, vals"
   ]
  },
  {
   "cell_type": "code",
   "execution_count": null,
   "metadata": {},
   "outputs": [],
   "source": [
    "signal_pruned = signal_prune(signal_full)\n",
    "vals = get_val_idxs(signal_full)\n",
    "signal_pruned.shape, vals.shape, vals\n",
    "# signal_pruned = "
   ]
  },
  {
   "cell_type": "code",
   "execution_count": null,
   "metadata": {},
   "outputs": [],
   "source": []
  }
 ],
 "metadata": {
  "interpreter": {
   "hash": "b89b5cfaba6639976dc87ff2fec6d58faec662063367e2c229c520fe71072417"
  },
  "kernelspec": {
   "display_name": "Python 3 (ipykernel)",
   "language": "python",
   "name": "python3"
  },
  "language_info": {
   "codemirror_mode": {
    "name": "ipython",
    "version": 3
   },
   "file_extension": ".py",
   "mimetype": "text/x-python",
   "name": "python",
   "nbconvert_exporter": "python",
   "pygments_lexer": "ipython3",
   "version": "3.10.2"
  }
 },
 "nbformat": 4,
 "nbformat_minor": 2
}
