{
 "cells": [
  {
   "cell_type": "markdown",
   "metadata": {},
   "source": [
    "# This notebook shows the second part of the interpolation experiments"
   ]
  },
  {
   "cell_type": "code",
   "execution_count": null,
   "metadata": {},
   "outputs": [],
   "source": [
    "import numpy as np\n",
    "import pandas as pd\n",
    "import plotly.express as px\n",
    "import plotly.graph_objects as go\n",
    "from tqdm.auto import tqdm, trange"
   ]
  },
  {
   "cell_type": "code",
   "execution_count": null,
   "metadata": {},
   "outputs": [],
   "source": [
    "import plotly.io as pio\n",
    "\n",
    "def plot_signal(x, t):\n",
    "    return go.Figure([go.Scatter(y=x, x=t, mode=\"lines+markers\")\n",
    "                      ]).update_layout(\n",
    "        xaxis_title=\"Time, s\",\n",
    "        yaxis_title=\"Signal\",\n",
    "    )\n",
    "\n",
    "def plot_freqs(x, f, f_max=100):\n",
    "    f_idxs = np.abs(f)<f_max\n",
    "    return go.Figure(go.Scatter(y=x[f_idxs], x=f[f_idxs], mode=\"lines+markers\")).update_layout(\n",
    "        xaxis_title=\"Frequency, Hz\",\n",
    "        yaxis_title=\"Strength\",\n",
    "    )\n",
    "\n",
    "def fft(vals, ts):\n",
    "    sample_rate = ts.shape[-1]/(ts[-1] - ts[0])\n",
    "    return np.abs(np.fft.fft(vals)), np.fft.fftfreq(vals.shape[-1])*sample_rate\n"
   ]
  },
  {
   "cell_type": "code",
   "execution_count": null,
   "metadata": {},
   "outputs": [],
   "source": [
    "def wsinterp(x, xp, fp, left=None, right=None):\n",
    "    \"\"\"One-dimensional Whittaker-Shannon interpolation.\n",
    "\n",
    "    This uses the Whittaker-Shannon interpolation formula to interpolate the\n",
    "    value of fp (array), which is defined over xp (array), at x (array or\n",
    "    float).\n",
    "\n",
    "    Returns the interpolated array with dimensions of x.\n",
    "\n",
    "    x: t_int\n",
    "    xp: t_real\n",
    "    fp: f_real\n",
    "\n",
    "    \"\"\"\n",
    "    scalar = np.isscalar(x)\n",
    "    if scalar:\n",
    "        x = np.array(x)\n",
    "        x.resize(1)\n",
    "    Tn = (xp[-1] - xp[0])/xp.shape[0]\n",
    "\n",
    "    # shape = (nxp, nx), nxp copies of x data span axis 1\n",
    "    u = np.resize(x, (len(xp), len(x)))\n",
    "    # Must take transpose of u for proper broadcasting with xp.\n",
    "    # shape = (nx, nxp), v(xp) data spans axis 1\n",
    "    v = (xp - u.T) / (Tn)\n",
    "    # shape = (nx, nxp), m(v) data spans axis 1\n",
    "    m = fp * np.sinc(v)\n",
    "    # Sum over m(v) (axis 1)\n",
    "    fp_at_x = np.sum(m, axis=1)\n",
    "\n",
    "    # Enforce left and right\n",
    "    if left is None:\n",
    "        left = fp[0]\n",
    "    fp_at_x[x < xp[0]] = left\n",
    "    if right is None:\n",
    "        right = fp[-1]\n",
    "    fp_at_x[x > xp[-1]] = right\n",
    "\n",
    "    # Return a float if we got a float\n",
    "    if scalar:\n",
    "        return float(fp_at_x)\n",
    "\n",
    "    return fp_at_x"
   ]
  },
  {
   "cell_type": "code",
   "execution_count": null,
   "metadata": {},
   "outputs": [],
   "source": [
    "sample_rate_full = 1000  #  Samples per s\n",
    "sin_ts = np.arange(0, 3, 1/sample_rate_full)\n",
    "sin_freq = 5  # Hz\n",
    "sin_omega = (2*np.pi)*sin_freq\n",
    "sin_freq2 = 6\n",
    "# sin_vals = np.sin(sin_omega * sin_ts)\n",
    "\n",
    "sin_vals1 = np.exp(1j * sin_omega * sin_ts)\n",
    "sin_vals2 = np.exp(1j*2*np.pi*sin_freq2 * sin_ts)\n",
    "sin_vals = sin_vals1+sin_vals2*0.3\n",
    "plot_signal(sin_vals.real, sin_ts).show()\n",
    "plot_freqs(*fft(sin_vals, sin_ts)).show()"
   ]
  },
  {
   "cell_type": "code",
   "execution_count": null,
   "metadata": {},
   "outputs": [],
   "source": [
    "ids_irreg = np.sort(np.random.choice(np.arange(sin_ts.shape[0]), (sin_ts.shape[0])//20, False))\n",
    "sin_vals_irreg = sin_vals[ids_irreg]\n",
    "sin_ts_irreg = sin_ts[ids_irreg]\n",
    "\n",
    "# plot_signal(sin_vals_irreg.real, sin_ts_irreg).show()\n",
    "fig = go.Figure()\n",
    "fig.add_trace(go.Scatter(y=sin_vals.real, x=sin_ts, mode=\"lines\", name=\"Siganl\"))\n",
    "fig.add_trace(go.Scatter(y=sin_vals_irreg.real, x=sin_ts_irreg, mode=\"markers\", name=\"Sample points\"))\n",
    "fig.show()"
   ]
  },
  {
   "cell_type": "code",
   "execution_count": null,
   "metadata": {},
   "outputs": [],
   "source": [
    "plot_freqs(*fft(sin_vals_irreg, sin_ts_irreg)).show()"
   ]
  },
  {
   "cell_type": "code",
   "execution_count": null,
   "metadata": {},
   "outputs": [],
   "source": [
    "sin_wsint = wsinterp(sin_ts, sin_ts_irreg, sin_vals_irreg)\n",
    "# plot_signal(sin_wsint.real, sin_ts).show()\n",
    "\n",
    "fig = go.Figure()\n",
    "fig.add_trace(go.Scatter(y=sin_wsint.real, x=sin_ts, mode=\"lines\", name=\"Interpolated\"))\n",
    "fig.add_trace(go.Scatter(y=sin_vals_irreg.real, x=sin_ts_irreg, mode=\"markers\", name=\"Sample points\"))\n",
    "fig.show()\n",
    "\n",
    "plot_freqs(*fft(sin_wsint, sin_ts)).show()"
   ]
  },
  {
   "cell_type": "code",
   "execution_count": null,
   "metadata": {},
   "outputs": [],
   "source": [
    "\n",
    "def randomized_sinc_interp(x:np.ndarray, xp:np.ndarray, fp:np.ndarray, sigma_coeff=0.8, left=None, right=None)->np.ndarray:\n",
    "\n",
    "    Tn = (xp[-1] - xp[0])/xp.shape[0]\n",
    "#     print(xp.shape, xp[0], xp[1], Tn)\n",
    "    xp_regular = np.arange(xp[0], xp[0] + Tn*xp.shape[0], Tn)\n",
    "    \n",
    "    xp_deltas = xp - xp_regular\n",
    "\n",
    "    xp_result = xp_regular + xp_deltas * sigma_coeff \n",
    "\n",
    "    # shape = (nxp, nx), nxp copies of x data span axis 1\n",
    "    u = np.resize(x, (len(xp), len(x)))\n",
    "    # Must take transpose of u for proper broadcasting with xp.\n",
    "    # shape = (nx, nxp), v(xp) data spans axis 1\n",
    "    # v = (xp - u.T) / (Tn)\n",
    "    v = (xp_result - u.T) / (Tn)\n",
    "    # shape = (nx, nxp), m(v) data spans axis 1\n",
    "    m =   fp * np.sinc(v)\n",
    "    # Sum over m(v) (axis 1)\n",
    "    fp_at_x = np.sum(m, axis=1)\n",
    "\n",
    "    # Enforce left and right\n",
    "    if left is None:\n",
    "        left = fp[0]\n",
    "    fp_at_x[x < xp[0]] = left\n",
    "    if right is None:\n",
    "        right = fp[-1]\n",
    "    fp_at_x[x > xp[-1]] = right\n",
    "\n",
    "    return fp_at_x\n"
   ]
  },
  {
   "cell_type": "code",
   "execution_count": null,
   "metadata": {},
   "outputs": [],
   "source": [
    "\n",
    "for sigma_coeff in (0, 0.01, 0.1, 0.2, 0.4, 0.6, 0.8, 1, 1.2):\n",
    "    print(sigma_coeff)\n",
    "    sin_int = randomized_sinc_interp(sin_ts, sin_ts_irreg, sin_vals_irreg, sigma_coeff = sigma_coeff)\n",
    "    # plot_signal(sin_wsint.real, sin_ts).show()\n",
    "\n",
    "    fig = go.Figure()\n",
    "    fig.add_trace(go.Scatter(y=sin_wsint.real, x=sin_ts, mode=\"lines\", name=\"Interpolated\"))\n",
    "    fig.add_trace(go.Scatter(y=sin_vals_irreg.real, x=sin_ts_irreg, mode=\"markers\", name=\"Sample points\"))\n",
    "    fig.show()\n",
    "\n",
    "    plot_freqs(*fft(sin_int, sin_ts)).show()"
   ]
  },
  {
   "cell_type": "code",
   "execution_count": null,
   "metadata": {},
   "outputs": [],
   "source": [
    "from scipy import interpolate\n",
    "\n",
    "def splineinterp(x, xp, fp):\n",
    "    tck = interpolate.splrep(xp, fp)\n",
    "    return interpolate.splev(x, tck)"
   ]
  },
  {
   "cell_type": "code",
   "execution_count": null,
   "metadata": {},
   "outputs": [],
   "source": [
    "sin_spint = splineinterp(sin_ts, sin_ts_irreg, sin_vals_irreg.real) + 1j*splineinterp(sin_ts, sin_ts_irreg, sin_vals_irreg.imag)\n",
    "# plot_signal(sin_spint.imag, sin_ts).show()\n",
    "\n",
    "fig = go.Figure()\n",
    "fig.add_trace(go.Scatter(y=sin_spint.real, x=sin_ts, mode=\"lines\", name=\"Interpolated\"))\n",
    "fig.add_trace(go.Scatter(y=sin_vals.real, x=sin_ts, mode=\"lines\", name=\"Real\"))\n",
    "fig.add_trace(go.Scatter(y=sin_vals_irreg.real, x=sin_ts_irreg, mode=\"markers\", name=\"Sample points\"))\n",
    "fig.show()\n",
    "\n",
    "plot_freqs(*fft(sin_spint, sin_ts)).show()"
   ]
  },
  {
   "cell_type": "code",
   "execution_count": null,
   "metadata": {},
   "outputs": [],
   "source": []
  }
 ],
 "metadata": {
  "interpreter": {
   "hash": "b89b5cfaba6639976dc87ff2fec6d58faec662063367e2c229c520fe71072417"
  },
  "kernelspec": {
   "display_name": "Python 3 (ipykernel)",
   "language": "python",
   "name": "python3"
  },
  "language_info": {
   "codemirror_mode": {
    "name": "ipython",
    "version": 3
   },
   "file_extension": ".py",
   "mimetype": "text/x-python",
   "name": "python",
   "nbconvert_exporter": "python",
   "pygments_lexer": "ipython3",
   "version": "3.10.2"
  }
 },
 "nbformat": 4,
 "nbformat_minor": 4
}
