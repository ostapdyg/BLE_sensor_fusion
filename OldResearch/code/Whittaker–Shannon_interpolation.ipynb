{
 "cells": [
  {
   "cell_type": "markdown",
   "id": "8d1bc8b5-e0c4-426d-a8e1-21cdf4a34ffd",
   "metadata": {
    "tags": []
   },
   "source": [
    "# Imports, load data"
   ]
  },
  {
   "cell_type": "code",
   "execution_count": null,
   "id": "e7fae269-6ade-4965-8b15-87a8a57e9713",
   "metadata": {},
   "outputs": [],
   "source": [
    "import numpy as np\n",
    "import pandas as pd\n",
    "import plotly.express as px\n",
    "import plotly.graph_objects as go\n",
    "from tqdm.auto import tqdm, trange\n",
    "\n",
    "from distance_determination import get_current_freq\n",
    "from simul.utilities.data import load_experiment\n",
    "from simul.vis.signals import vis_signals\n",
    "\n",
    "%load_ext autoreload\n",
    "%autoreload 2"
   ]
  },
  {
   "cell_type": "code",
   "execution_count": null,
   "id": "b336a02d-098a-4c53-b0a1-536e32afebfd",
   "metadata": {},
   "outputs": [],
   "source": [
    "from run_experiment import experiments\n",
    "\n",
    "from distance_determination import estimate_dist, simulate_signals\n",
    "\n",
    "exp_name = \"default_full\"\n",
    "params = experiments[exp_name]\n",
    "dist, signals_data = simulate_signals(params)\n",
    "# params, dist, signals_data, dist_probs = load_experiment(\"not_moving\")"
   ]
  },
  {
   "cell_type": "markdown",
   "id": "b698e2fd-e25a-4974-b306-885b6c0c1b6a",
   "metadata": {
    "tags": []
   },
   "source": [
    "# VIS"
   ]
  },
  {
   "cell_type": "code",
   "execution_count": null,
   "id": "1a602fff-5923-488e-a395-5cd00a047842",
   "metadata": {},
   "outputs": [],
   "source": [
    "y = np.angle(signals_data[0, ...])\n",
    "x = y.copy()\n",
    "\n",
    "step = 10\n",
    "x[[True if i % step else False for i in range(len(x))]] = np.nan\n",
    "\n",
    "\n",
    "n = 300\n",
    "fig = go.Figure()\n",
    "fig.add_trace(go.Scatter(y=x[:n], name=\"data\", mode=\"markers\"))\n",
    "fig.add_trace(go.Scatter(y=y[:n], name=\"full\"))\n",
    "fig"
   ]
  },
  {
   "cell_type": "code",
   "execution_count": null,
   "id": "90a8232c-dd82-4397-8341-cebed777c597",
   "metadata": {
    "tags": []
   },
   "outputs": [],
   "source": [
    "fig_amp, fig_angle, _ = vis_signals(signals_data, dist, params, 300, dump=True)\n",
    "\n",
    "fig_amp.update_layout(height=800)\n",
    "fig_amp.show()\n",
    "\n",
    "fig_angle.update_layout(height=800)\n",
    "fig_angle.show()"
   ]
  },
  {
   "cell_type": "markdown",
   "id": "842b2c30-9aba-423d-9c3a-cf994d08f2cc",
   "metadata": {},
   "source": [
    "# Whittaker–Shannon"
   ]
  },
  {
   "cell_type": "code",
   "execution_count": null,
   "id": "58be70f6-6006-4850-b388-6ace46169d76",
   "metadata": {},
   "outputs": [],
   "source": [
    "y.shape, np.sin(y).shape"
   ]
  },
  {
   "cell_type": "markdown",
   "id": "c7443aa6-e4ac-4a53-8825-5dddb0ad1f2e",
   "metadata": {},
   "source": [
    "Interpolate complex value"
   ]
  },
  {
   "cell_type": "markdown",
   "id": "ec8c472f-7407-4e55-9139-a2459fbc80ac",
   "metadata": {},
   "source": [
    "Try with a single signal"
   ]
  },
  {
   "cell_type": "code",
   "execution_count": null,
   "id": "ca84e0fb-b3a4-4291-bf25-a28dc8b98093",
   "metadata": {},
   "outputs": [],
   "source": [
    "def wsinterp(x, xp, fp, left=None, right=None):\n",
    "    \"\"\"One-dimensional Whittaker-Shannon interpolation.\n",
    "\n",
    "    This uses the Whittaker-Shannon interpolation formula to interpolate the\n",
    "    value of fp (array), which is defined over xp (array), at x (array or\n",
    "    float).\n",
    "\n",
    "    Returns the interpolated array with dimensions of x.\n",
    "\n",
    "    \"\"\"\n",
    "    scalar = np.isscalar(x)\n",
    "    if scalar:\n",
    "        x = np.array(x)\n",
    "        x.resize(1)\n",
    "    # shape = (nxp, nx), nxp copies of x data span axis 1\n",
    "    u = np.resize(x, (len(xp), len(x)))\n",
    "    # Must take transpose of u for proper broadcasting with xp.\n",
    "    # shape = (nx, nxp), v(xp) data spans axis 1\n",
    "    v = (xp - u.T) / (xp[1] - xp[0])\n",
    "    # shape = (nx, nxp), m(v) data spans axis 1\n",
    "    m = fp * np.sinc(v)\n",
    "    # Sum over m(v) (axis 1)\n",
    "    fp_at_x = np.sum(m, axis=1)\n",
    "\n",
    "    # Enforce left and right\n",
    "    if left is None:\n",
    "        left = fp[0]\n",
    "    fp_at_x[x < xp[0]] = left\n",
    "    if right is None:\n",
    "        right = fp[-1]\n",
    "    fp_at_x[x > xp[-1]] = right\n",
    "\n",
    "    # Return a float if we got a float\n",
    "    if scalar:\n",
    "        return float(fp_at_x)\n",
    "\n",
    "    return fp_at_x"
   ]
  },
  {
   "cell_type": "code",
   "execution_count": null,
   "id": "d5e92553-48b8-4249-9ff8-b2a95b3fe8b8",
   "metadata": {},
   "outputs": [],
   "source": [
    "xp = np.arange(0, 1000, 10) * 0.1"
   ]
  },
  {
   "cell_type": "code",
   "execution_count": null,
   "id": "c8421cf4-6f8c-43d4-88e7-74afdd334fe0",
   "metadata": {},
   "outputs": [],
   "source": [
    "yp = np.sin(xp)*(1+0.3*np.sin(xp/10))"
   ]
  },
  {
   "cell_type": "markdown",
   "id": "8bbe05c5-b993-4658-8c91-d1abc38fd33c",
   "metadata": {},
   "source": [
    "1. Have test data (without the simulator)\n",
    "2. Have the test simulated data (motion towards the beacon, velocity = +/-)"
   ]
  },
  {
   "cell_type": "markdown",
   "id": "731c906a-32ae-4fd6-9d55-af920fbadc91",
   "metadata": {},
   "source": [
    "FFT with mirrors and increase number of measurements"
   ]
  },
  {
   "cell_type": "code",
   "execution_count": null,
   "id": "73e6acc6-8a99-413d-bfec-b948bd952ab3",
   "metadata": {},
   "outputs": [],
   "source": [
    "px.line(y=yp, x=xp)"
   ]
  },
  {
   "cell_type": "code",
   "execution_count": null,
   "id": "88d99d36-2dad-45a0-8762-45f454ca5069",
   "metadata": {},
   "outputs": [],
   "source": [
    "x = np.arange(0, 10000, 10) * 0.01"
   ]
  },
  {
   "cell_type": "code",
   "execution_count": null,
   "id": "1e7d3fd7-2632-4c85-a48c-350ccdad888e",
   "metadata": {},
   "outputs": [],
   "source": [
    "f = wsinterp(x, xp, yp)"
   ]
  },
  {
   "cell_type": "code",
   "execution_count": null,
   "id": "ac0e5467-334b-4293-a84f-b8a7b06df863",
   "metadata": {},
   "outputs": [],
   "source": [
    "px.line(y=f, x=x)"
   ]
  },
  {
   "cell_type": "code",
   "execution_count": null,
   "id": "a87b1fc9-ad27-49db-834e-6582d0f645ce",
   "metadata": {},
   "outputs": [],
   "source": [
    "go.Figure(data=[go.Scatter(y=f, x=x), go.Scatter(y=yp, x=xp, mode='markers')])"
   ]
  },
  {
   "cell_type": "code",
   "execution_count": null,
   "id": "fe7bf9a8-e7ea-4887-a9cb-c221c98a7b0d",
   "metadata": {},
   "outputs": [],
   "source": [
    "px.line(np.abs(np.fft.fft(yp)))"
   ]
  },
  {
   "cell_type": "markdown",
   "id": "88a6ed13-7718-4729-98be-404930aa453b",
   "metadata": {},
   "source": [
    "Add x and y scales(?)\n",
    "\n",
    "Hz"
   ]
  },
  {
   "cell_type": "markdown",
   "id": "267c2d42-d466-4078-9a71-a557f19b931e",
   "metadata": {},
   "source": [
    "Better fourier"
   ]
  },
  {
   "cell_type": "markdown",
   "id": "1faa9a6d-4e31-4672-9af8-20a64d79968f",
   "metadata": {},
   "source": [
    "Does it assume that the code is periodic?\n",
    "Does it fill with zeros?\n",
    "\n",
    "Create dataset of different types of signals."
   ]
  },
  {
   "cell_type": "markdown",
   "id": "6e0a224f-4076-425d-9cee-fb2b0244f507",
   "metadata": {},
   "source": [
    "Better storytelling"
   ]
  },
  {
   "cell_type": "code",
   "execution_count": null,
   "id": "54b0b7dc-28c8-411c-98ef-75615718838a",
   "metadata": {},
   "outputs": [],
   "source": [
    "y = signals_data[0, ...]\n",
    "interps = {\"full\": y}\n",
    "\n",
    "for step in trange(2, 60, 10):\n",
    "    x = y.copy()\n",
    "\n",
    "    x[[True if i % step else False for i in range(len(x))]] = np.nan\n",
    "    x_interp = wsinterp(\n",
    "        np.arange(len(x)), np.squeeze(np.argwhere(~np.isnan(x))), x[~np.isnan(x)]\n",
    "    )\n",
    "    interps[step] = x_interp"
   ]
  },
  {
   "cell_type": "code",
   "execution_count": null,
   "id": "d0600c14-4293-4349-8b90-ab6f02fe036f",
   "metadata": {},
   "outputs": [],
   "source": [
    "n = 500\n",
    "fig = go.Figure()\n",
    "# fig.add_trace(go.Scatter(y=y[:n], name=\"full\"))\n",
    "\n",
    "for step, x_interp in interps.items():\n",
    "    if step == 2:\n",
    "        continue\n",
    "    fig.add_trace(go.Scatter(y=np.angle(x[:n]), name=f\"data with {step=}\", mode=\"markers\"))\n",
    "    fig.add_trace(go.Scatter(y=np.angle(x_interp[:n]), name=f\"data with {step=}\"))\n",
    "\n",
    "fig.update_layout(height=800)\n",
    "fig"
   ]
  },
  {
   "cell_type": "code",
   "execution_count": null,
   "id": "65452dd5-d1b9-4900-8d6b-a4e0c05baa94",
   "metadata": {},
   "outputs": [],
   "source": [
    "n = 500\n",
    "fig = go.Figure()\n",
    "# fig.add_trace(go.Scatter(y=y[:n], name=\"full\"))\n",
    "\n",
    "for step, x_interp in interps.items():\n",
    "    if step == 2:\n",
    "        continue\n",
    "    fig.add_trace(go.Scatter(y=np.abs(x[:n]), name=f\"data with {step=}\", mode=\"markers\"))\n",
    "    fig.add_trace(go.Scatter(y=np.abs(x_interp[:n]), name=f\"data with {step=}\"))\n",
    "\n",
    "fig.update_layout(height=800)\n",
    "fig"
   ]
  },
  {
   "cell_type": "code",
   "execution_count": null,
   "id": "ad3b2608-0012-4f11-adda-4b9210c66b79",
   "metadata": {},
   "outputs": [],
   "source": [
    "n = 3000\n",
    "df = pd.DataFrame(\n",
    "    [\n",
    "        (f\"step: {k}\" if isinstance(k, int) else k, i, np.angle(interps[k][i]))\n",
    "        for k, v in interps.items()\n",
    "        for i in range(min(len(interps[k]), n))\n",
    "    ],\n",
    "    columns=[\"name\", \"index\", \"value\"],\n",
    ")\n",
    "px.line(\n",
    "    df,\n",
    "    y=\"value\",\n",
    "    x=\"index\",\n",
    "    animation_frame=\"name\",\n",
    "    animation_group='index'\n",
    ")"
   ]
  },
  {
   "cell_type": "code",
   "execution_count": null,
   "id": "4c1078a3-7d3b-4e22-9e2d-23689ea620fc",
   "metadata": {},
   "outputs": [],
   "source": [
    "n = 3000\n",
    "df = pd.DataFrame(\n",
    "    [\n",
    "        (f\"step: {k}\" if isinstance(k, int) else k, i, np.abs(interps[k][i]))\n",
    "        for k, v in interps.items()\n",
    "        for i in range(min(len(interps[k]), n))\n",
    "    ],\n",
    "    columns=[\"name\", \"index\", \"value\"],\n",
    ")\n",
    "px.line(\n",
    "    df,\n",
    "    y=\"value\",\n",
    "    x=\"index\",\n",
    "    animation_frame=\"name\",\n",
    "    animation_group='index'\n",
    ")"
   ]
  },
  {
   "cell_type": "code",
   "execution_count": null,
   "id": "6f92af95-c88e-447e-8300-71f54b9aac37",
   "metadata": {},
   "outputs": [],
   "source": [
    "n = 3000\n",
    "\n",
    "y = np.sin(np.angle(signals_data[0, :n]))\n",
    "interps = {\"full\": y}\n",
    "\n",
    "for step in trange(2, 60, 10):\n",
    "    x = y.copy()\n",
    "\n",
    "    x[[True if i % step else False for i in range(len(x))]] = np.nan\n",
    "    x_interp = wsinterp(\n",
    "        np.arange(len(x)), np.squeeze(np.argwhere(~np.isnan(x))), x[~np.isnan(x)]\n",
    "    )\n",
    "    interps[step] = x_interp\n",
    "    \n",
    "df = pd.DataFrame(\n",
    "    [\n",
    "        (f\"step: {k}\" if isinstance(k, int) else k, i, interps[k][i])\n",
    "        for k, v in interps.items()\n",
    "        for i in range(len(interps[k]))\n",
    "    ],\n",
    "    columns=[\"name\", \"index\", \"value\"],\n",
    ")\n",
    "px.line(\n",
    "    df,\n",
    "    y=\"value\",\n",
    "    x=\"index\",\n",
    "    animation_frame=\"name\",\n",
    "    animation_group='index'\n",
    ")"
   ]
  },
  {
   "cell_type": "markdown",
   "id": "02d4038f-0896-46d4-9534-7bf75044a281",
   "metadata": {},
   "source": [
    "https://en.wikipedia.org/wiki/Wiener_filter#:~:text=In%20signal%20processing%2C%20the%20Wiener,noise%20spectra%2C%20and%20additive%20noise.\n",
    "\n",
    "autoregression"
   ]
  },
  {
   "cell_type": "code",
   "execution_count": null,
   "id": "4c68efab-6e06-47e4-9f52-06a67478ca90",
   "metadata": {},
   "outputs": [],
   "source": []
  }
 ],
 "metadata": {
  "kernelspec": {
   "display_name": "Python 3 (ipykernel)",
   "language": "python",
   "name": "python3"
  },
  "language_info": {
   "codemirror_mode": {
    "name": "ipython",
    "version": 3
   },
   "file_extension": ".py",
   "mimetype": "text/x-python",
   "name": "python",
   "nbconvert_exporter": "python",
   "pygments_lexer": "ipython3",
   "version": "3.10.2"
  }
 },
 "nbformat": 4,
 "nbformat_minor": 5
}
